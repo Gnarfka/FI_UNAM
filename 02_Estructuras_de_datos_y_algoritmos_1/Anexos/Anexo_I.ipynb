{
 "cells": [
  {
   "cell_type": "markdown",
   "metadata": {},
   "source": [
    "# Anexo I: Uso de numpy y matplotlib"
   ]
  },
  {
   "cell_type": "markdown",
   "metadata": {
    "collapsed": true
   },
   "source": [
    "<img src=\"img/logo.png\" height=\"600\" width=\"400\">"
   ]
  },
  {
   "cell_type": "markdown",
   "metadata": {},
   "source": [
    "### Elaborado por:\n",
    "\n",
    "* M.C. Edgar E. García Cano\n",
    "* Ing. Jorge A. Solano Gálvez\n",
    "\n",
    "### Autorizado por:\n",
    "* M.C. Alejandro Velázquez Mena"
   ]
  },
  {
   "cell_type": "markdown",
   "metadata": {},
   "source": [
    "## Objetivo:"
   ]
  },
  {
   "cell_type": "markdown",
   "metadata": {},
   "source": [
    ">El objetivo de esta guía es usar las librerías numpy y matplotlib, dos de los paquetes de Python más utilizados en Ingeniería, Ciencias, Matemáticas, Análisis de Datos entre otros."
   ]
  },
  {
   "cell_type": "code",
   "execution_count": 5,
   "metadata": {
    "collapsed": false
   },
   "outputs": [
    {
     "name": "stdout",
     "output_type": "stream",
     "text": [
      "Populating the interactive namespace from numpy and matplotlib\n"
     ]
    }
   ],
   "source": [
    "#Cargar paquetes \n",
    "%pylab inline  #Esta línea se utiliza para que las gráficas que se creen queden embebidas dentro de la notebook."
   ]
  },
  {
   "cell_type": "markdown",
   "metadata": {},
   "source": [
    "### 1. Numpy (http://www.numpy.org/)"
   ]
  },
  {
   "cell_type": "markdown",
   "metadata": {},
   "source": [
    "Numpy es uno de los paquetes más populares de Python, es usado para realizar operaciones con vectores o matrices de una manera eficiente."
   ]
  },
  {
   "cell_type": "code",
   "execution_count": 21,
   "metadata": {
    "collapsed": true
   },
   "outputs": [],
   "source": [
    "#Los comentatios en Pytho empiezan con el signo #\n",
    "#Cargar módulo de numpy\n",
    "import numpy as np   "
   ]
  },
  {
   "cell_type": "markdown",
   "metadata": {},
   "source": [
    "#### 1.1 Creando vectores y matrices"
   ]
  },
  {
   "cell_type": "code",
   "execution_count": 22,
   "metadata": {
    "collapsed": true
   },
   "outputs": [],
   "source": [
    "vector = array([1,2,3,4,5,6])\n",
    "matriz = array([[1, 2], [3, 4], [5, 6]])"
   ]
  },
  {
   "cell_type": "markdown",
   "metadata": {},
   "source": [
    "> En Python no se tiene que indica el tipo de dato al que pertenece la variable."
   ]
  },
  {
   "cell_type": "code",
   "execution_count": 23,
   "metadata": {
    "collapsed": false
   },
   "outputs": [
    {
     "name": "stdout",
     "output_type": "stream",
     "text": [
      "[1 2 3 4 5 6]\n",
      "\n",
      "[[1 2]\n",
      " [3 4]\n",
      " [5 6]]\n",
      "\n",
      "Tamaño del vector (6,)\n",
      "Tamaño de la matriz (3, 2)\n"
     ]
    }
   ],
   "source": [
    "#imprimir contenido y tamaño del vector y la matriz\n",
    "print(vector)\n",
    "print()  #Línea vacía\n",
    "print(matriz)\n",
    "print()\n",
    "print(\"Tamaño del vector {}\".format(vector.shape))\n",
    "print(\"Tamaño de la matriz {}\".format(matriz.shape))\n"
   ]
  },
  {
   "cell_type": "code",
   "execution_count": 58,
   "metadata": {
    "collapsed": false
   },
   "outputs": [
    {
     "name": "stdout",
     "output_type": "stream",
     "text": [
      "El vector tiene 6 elementos\n",
      "La matriz es de 3,2 con un total de 6 elementos\n"
     ]
    }
   ],
   "source": [
    "#Los valores del tamaño del vector o matrices se pueden acceder de la siguiente manera\n",
    "\n",
    "v_elem = vector.size\n",
    "\n",
    "#Forma 1\n",
    "m_reng, m_column = matriz.shape\n",
    "\n",
    "#Forma 2\n",
    "m_reng = matriz.shape[0]\n",
    "m_column = matriz.shape[1]\n",
    "\n",
    "#Forma 3\n",
    "m_reng, m_column = matriz.shape[0], matriz.shape[1]\n",
    "\n",
    "\n",
    "print(\"El vector tiene {} elementos\".format(v_elem))\n",
    "print(\"La matriz es de {},{} con un total de {} elementos\".format(m_reng, m_column, matriz.size))\n"
   ]
  },
  {
   "cell_type": "markdown",
   "metadata": {},
   "source": [
    "> #La diferencia entre shape y size es que shape indica el número de renglones y columnas que componen al vector o matriz. Mientras size indica el total de elementos"
   ]
  },
  {
   "cell_type": "code",
   "execution_count": 69,
   "metadata": {
    "collapsed": false
   },
   "outputs": [],
   "source": [
    "#También se pueden crear vectores y matrices de la siguiente forma\n",
    "v_ceros = zeros(4)\n",
    "v_unos = ones(4)\n",
    "v_random = np.random.rand(8)    #Se generan números aleatorios\n",
    "\n",
    "m_ceros = zeros([4,3])\n",
    "m_unos = ones([4,5])\n",
    "m_random = np.random.rand(6,4) #Se generan números aleatorios\n"
   ]
  },
  {
   "cell_type": "code",
   "execution_count": 70,
   "metadata": {
    "collapsed": false
   },
   "outputs": [
    {
     "name": "stdout",
     "output_type": "stream",
     "text": [
      "Imprimiendo los vectores\n",
      "[ 0.  0.  0.  0.]\n",
      "[ 1.  1.  1.  1.]\n",
      "[ 0.29222341  0.08284659  0.43440725  0.59794193  0.58933956  0.39665218\n",
      "  0.2314981   0.44817614]\n",
      "\n",
      "Imprimiendo las matrices\n",
      "[[ 0.  0.  0.]\n",
      " [ 0.  0.  0.]\n",
      " [ 0.  0.  0.]\n",
      " [ 0.  0.  0.]]\n",
      "[[ 1.  1.  1.  1.  1.]\n",
      " [ 1.  1.  1.  1.  1.]\n",
      " [ 1.  1.  1.  1.  1.]\n",
      " [ 1.  1.  1.  1.  1.]]\n",
      "[[ 0.57921629  0.27689637  0.58567593  0.52376543]\n",
      " [ 0.71828512  0.17865355  0.74720343  0.05654253]\n",
      " [ 0.73112178  0.95306741  0.83765726  0.30252289]\n",
      " [ 0.53346073  0.00435577  0.76443791  0.10168274]\n",
      " [ 0.81508956  0.02458133  0.05421208  0.5338818 ]\n",
      " [ 0.43017764  0.49000345  0.67405416  0.40103064]]\n"
     ]
    }
   ],
   "source": [
    "print(\"Imprimiendo los vectores\")\n",
    "print(v_ceros)\n",
    "print(v_unos)\n",
    "print(v_random)\n",
    "print()\n",
    "print(\"Imprimiendo las matrices\")\n",
    "print(m_ceros)\n",
    "print(m_unos)\n",
    "print(m_random)"
   ]
  },
  {
   "cell_type": "markdown",
   "metadata": {},
   "source": [
    "#### 1.2 Accediendo a los elementos de los vectores y matrices"
   ]
  },
  {
   "cell_type": "code",
   "execution_count": 40,
   "metadata": {
    "collapsed": false
   },
   "outputs": [
    {
     "name": "stdout",
     "output_type": "stream",
     "text": [
      "0.524555554009\n"
     ]
    },
    {
     "ename": "IndexError",
     "evalue": "index 3 is out of bounds for axis 0 with size 3",
     "output_type": "error",
     "traceback": [
      "\u001b[1;31m---------------------------------------------------------------------------\u001b[0m",
      "\u001b[1;31mIndexError\u001b[0m                                Traceback (most recent call last)",
      "\u001b[1;32m<ipython-input-40-9873aa992157>\u001b[0m in \u001b[0;36m<module>\u001b[1;34m()\u001b[0m\n\u001b[0;32m      1\u001b[0m \u001b[1;31m# Los índices de los vectores y matrices empiezan en cero\u001b[0m\u001b[1;33m\u001b[0m\u001b[1;33m\u001b[0m\u001b[0m\n\u001b[0;32m      2\u001b[0m \u001b[0mprint\u001b[0m\u001b[1;33m(\u001b[0m\u001b[0mv_random\u001b[0m\u001b[1;33m[\u001b[0m\u001b[1;36m1\u001b[0m\u001b[1;33m]\u001b[0m\u001b[1;33m)\u001b[0m\u001b[1;33m\u001b[0m\u001b[0m\n\u001b[1;32m----> 3\u001b[1;33m \u001b[0mprint\u001b[0m\u001b[1;33m(\u001b[0m\u001b[0mv_random\u001b[0m\u001b[1;33m[\u001b[0m\u001b[1;36m3\u001b[0m\u001b[1;33m]\u001b[0m\u001b[1;33m)\u001b[0m\u001b[1;33m\u001b[0m\u001b[0m\n\u001b[0m",
      "\u001b[1;31mIndexError\u001b[0m: index 3 is out of bounds for axis 0 with size 3"
     ]
    }
   ],
   "source": [
    "# Los índices de los vectores y matrices empiezan en cero\n",
    "print(v_random[1])\n",
    "print(v_random[3]) #El índice 3 no existe, por lo que marca un error al tratar de acceder a él\n"
   ]
  },
  {
   "cell_type": "markdown",
   "metadata": {},
   "source": [
    "#### 1.2.1 Renglones, columas y elementos"
   ]
  },
  {
   "cell_type": "code",
   "execution_count": 42,
   "metadata": {
    "collapsed": false
   },
   "outputs": [
    {
     "name": "stdout",
     "output_type": "stream",
     "text": [
      "Renglo 1 [ 0.37984632  0.64163062  0.9068841   0.6299651 ]\n"
     ]
    }
   ],
   "source": [
    "#Los índices de las matrices están organizados de la forma [renglones, columnas]\n",
    "print(\"Renglo 1 {}\".format(m_random[1,:]))"
   ]
  },
  {
   "cell_type": "code",
   "execution_count": 44,
   "metadata": {
    "collapsed": false
   },
   "outputs": [
    {
     "name": "stdout",
     "output_type": "stream",
     "text": [
      "Columna 3 [ 0.46251915  0.6299651   0.27858282  0.84192774  0.98364308  0.9522324 ]\n"
     ]
    }
   ],
   "source": [
    "print(\"Columna 3 {}\".format(m_random[:,3]))"
   ]
  },
  {
   "cell_type": "markdown",
   "metadata": {},
   "source": [
    "print(\"Elemento (1,3) = {}\".format(m_random[1,3]))"
   ]
  },
  {
   "cell_type": "markdown",
   "metadata": {},
   "source": [
    "> Como se observa en los ejemplos anteriores, si se quiere acceder a todos los elementos de un reglón o columna en específico, se tiene que usar el operador \":\". Si sólo se necesita un elemento en particular, se indican los índices de renglón y colúmna de dicho elemento."
   ]
  },
  {
   "cell_type": "markdown",
   "metadata": {},
   "source": [
    "#### 1.2.2 Conjuntos de renglones"
   ]
  },
  {
   "cell_type": "code",
   "execution_count": 65,
   "metadata": {
    "collapsed": false
   },
   "outputs": [
    {
     "name": "stdout",
     "output_type": "stream",
     "text": [
      "Primero dos renglones [[ 0.47189333  0.37274102  0.53173113  0.46251915]\n",
      " [ 0.37984632  0.64163062  0.9068841   0.6299651 ]]\n"
     ]
    }
   ],
   "source": [
    "print(\"Primero dos renglones {}\".format(m_random[:2]))"
   ]
  },
  {
   "cell_type": "code",
   "execution_count": 64,
   "metadata": {
    "collapsed": false
   },
   "outputs": [
    {
     "name": "stdout",
     "output_type": "stream",
     "text": [
      "Del renglón 3 en adelante [[ 0.83200829  0.72874238  0.76026814  0.84192774]\n",
      " [ 0.56925114  0.37189332  0.91633366  0.98364308]\n",
      " [ 0.60331776  0.15236902  0.45136373  0.9522324 ]]\n"
     ]
    }
   ],
   "source": [
    "print(\"Del renglón 3 en adelante {}\".format(m_random[3:]))"
   ]
  },
  {
   "cell_type": "code",
   "execution_count": 62,
   "metadata": {
    "collapsed": false
   },
   "outputs": [
    {
     "name": "stdout",
     "output_type": "stream",
     "text": [
      "Últimos dos renglones [[ 0.56925114  0.37189332  0.91633366  0.98364308]\n",
      " [ 0.60331776  0.15236902  0.45136373  0.9522324 ]]\n"
     ]
    }
   ],
   "source": [
    "print(\"Últimos dos renglones {}\".format(m_random[-2:]))"
   ]
  },
  {
   "cell_type": "code",
   "execution_count": 68,
   "metadata": {
    "collapsed": false
   },
   "outputs": [
    {
     "ename": "SyntaxError",
     "evalue": "invalid syntax (<ipython-input-68-b614426358b0>, line 1)",
     "output_type": "error",
     "traceback": [
      "\u001b[1;36m  File \u001b[1;32m\"<ipython-input-68-b614426358b0>\"\u001b[1;36m, line \u001b[1;32m1\u001b[0m\n\u001b[1;33m    print(\"Últimos dos renglones {}\".format(m_random[,-2:]))\u001b[0m\n\u001b[1;37m                                                     ^\u001b[0m\n\u001b[1;31mSyntaxError\u001b[0m\u001b[1;31m:\u001b[0m invalid syntax\n"
     ]
    }
   ],
   "source": [
    "print(\"Últimos dos renglones {}\".format(m_random[,-2:]))"
   ]
  },
  {
   "cell_type": "markdown",
   "metadata": {},
   "source": [
    "#### 1.2.3 Subconjuntos"
   ]
  },
  {
   "cell_type": "code",
   "execution_count": 79,
   "metadata": {
    "collapsed": false
   },
   "outputs": [
    {
     "name": "stdout",
     "output_type": "stream",
     "text": [
      "Original: [ 0.29222341  0.08284659  0.43440725  0.59794193  0.58933956  0.39665218\n",
      "  0.2314981   0.44817614]\n",
      "sub_1 del 3-5: [ 0.59794193  0.58933956  0.39665218]\n",
      "sub_2: del 5-8 [ 0.39665218  0.2314981   0.44817614]\n"
     ]
    }
   ],
   "source": [
    "print(\"Original: {}\".format(v_random))\n",
    "#Se hace un sub-vector de 3 elementos empezando por el que está en el índice 3 y hasta el 5. \n",
    "#Como se observa, el primer índice la posición del primer elemento que se va a tomar, mientras que el segundo \n",
    "#índice indica que se va a tomar hasta el elemento anterior a ese índice.\n",
    "\n",
    "sub_v = v_random[3:6]\n",
    "print(\"sub_1 del 3-5: {}\".format(sub_v))\n",
    "\n",
    "sub_v2 = v_random[5:9]\n",
    "print(\"sub_2: del 5-8 {}\".format(sub_v2))"
   ]
  },
  {
   "cell_type": "code",
   "execution_count": 89,
   "metadata": {
    "collapsed": false
   },
   "outputs": [
    {
     "name": "stdout",
     "output_type": "stream",
     "text": [
      "Original\n",
      "[[ 0.57921629  0.27689637  0.58567593  0.52376543]\n",
      " [ 0.71828512  0.17865355  0.74720343  0.05654253]\n",
      " [ 0.73112178  0.95306741  0.83765726  0.30252289]\n",
      " [ 0.53346073  0.00435577  0.76443791  0.10168274]\n",
      " [ 0.81508956  0.02458133  0.05421208  0.5338818 ]\n",
      " [ 0.43017764  0.49000345  0.67405416  0.40103064]]\n",
      "\n",
      " Sub-conjunto [1-2-3, 1-2]\n",
      "[[ 0.17865355  0.74720343]\n",
      " [ 0.95306741  0.83765726]\n",
      " [ 0.00435577  0.76443791]]\n"
     ]
    }
   ],
   "source": [
    "print(\"Original\")\n",
    "print(m_random)\n",
    "print(\"\\n Sub-conjunto [1-2-3, 1-2]\")\n",
    "print(m_random[1:4,1:3])"
   ]
  },
  {
   "cell_type": "markdown",
   "metadata": {},
   "source": [
    "#### 1.2.4 Ciclos"
   ]
  },
  {
   "cell_type": "code",
   "execution_count": 92,
   "metadata": {
    "collapsed": false
   },
   "outputs": [
    {
     "name": "stdout",
     "output_type": "stream",
     "text": [
      "[ 0.57921629  0.27689637  0.58567593  0.52376543]\n",
      "0.579216290644\n",
      "0.276896372975\n",
      "0.585675926393\n",
      "0.523765427234\n",
      "[ 0.71828512  0.17865355  0.74720343  0.05654253]\n",
      "0.718285116038\n",
      "0.178653549027\n",
      "0.747203432064\n",
      "0.0565425275899\n",
      "[ 0.73112178  0.95306741  0.83765726  0.30252289]\n",
      "0.731121775485\n",
      "0.953067406855\n",
      "0.8376572631\n",
      "0.302522890213\n",
      "[ 0.53346073  0.00435577  0.76443791  0.10168274]\n",
      "0.533460732675\n",
      "0.00435577095188\n",
      "0.764437913895\n",
      "0.101682738967\n",
      "[ 0.81508956  0.02458133  0.05421208  0.5338818 ]\n",
      "0.815089559162\n",
      "0.024581333696\n",
      "0.0542120839851\n",
      "0.53388179816\n",
      "[ 0.43017764  0.49000345  0.67405416  0.40103064]\n",
      "0.430177639901\n",
      "0.490003453999\n",
      "0.674054159094\n",
      "0.401030637\n"
     ]
    }
   ],
   "source": [
    "#Los arreglos y vectores también se pueden recorrer mediante ciclos\n",
    "#Recorriendo la matriz usando índices\n",
    "for i in range(0, m_random.shape[0]):\n",
    "    print(m_random[i,:]) #Se imprime el renlón completo\n",
    "    for j in range(0, m_random.shape[1]):\n",
    "        print(m_random[i,j]) #Se imprime el elemento de cada renglón"
   ]
  },
  {
   "cell_type": "markdown",
   "metadata": {},
   "source": [
    "#### 1.2 Guardar y cargar variables"
   ]
  },
  {
   "cell_type": "markdown",
   "metadata": {},
   "source": [
    "> Las variables que se van utilizando pueden ser guardadas en archivos para después cargarlas y volverlas a usar."
   ]
  },
  {
   "cell_type": "code",
   "execution_count": 101,
   "metadata": {
    "collapsed": false
   },
   "outputs": [
    {
     "name": "stdout",
     "output_type": "stream",
     "text": [
      "Original:\n",
      "[[ 0.57921629  0.27689637  0.58567593  0.52376543]\n",
      " [ 0.71828512  0.17865355  0.74720343  0.05654253]\n",
      " [ 0.73112178  0.95306741  0.83765726  0.30252289]\n",
      " [ 0.53346073  0.00435577  0.76443791  0.10168274]\n",
      " [ 0.81508956  0.02458133  0.05421208  0.5338818 ]\n",
      " [ 0.43017764  0.49000345  0.67405416  0.40103064]]\n"
     ]
    }
   ],
   "source": [
    "print(\"Original:\")\n",
    "print(m_random)"
   ]
  },
  {
   "cell_type": "code",
   "execution_count": 96,
   "metadata": {
    "collapsed": false
   },
   "outputs": [],
   "source": [
    "#Guardando la matriz m_random en el archivo m_random.csv usando como delimitador ','\n",
    "np.savetxt(\"m_random.csv\",m_random, delimiter=\",\")"
   ]
  },
  {
   "cell_type": "code",
   "execution_count": 97,
   "metadata": {
    "collapsed": true
   },
   "outputs": [],
   "source": [
    "#Cargando la matriz guardada en m_random.csv\n",
    "m_load = np.loadtxt(\"m_random.csv\",delimiter=\",\")"
   ]
  },
  {
   "cell_type": "code",
   "execution_count": 103,
   "metadata": {
    "collapsed": false
   },
   "outputs": [
    {
     "name": "stdout",
     "output_type": "stream",
     "text": [
      "Matriz guardada y cargada:\n",
      "[[ 0.57921629  0.27689637  0.58567593  0.52376543]\n",
      " [ 0.71828512  0.17865355  0.74720343  0.05654253]\n",
      " [ 0.73112178  0.95306741  0.83765726  0.30252289]\n",
      " [ 0.53346073  0.00435577  0.76443791  0.10168274]\n",
      " [ 0.81508956  0.02458133  0.05421208  0.5338818 ]\n",
      " [ 0.43017764  0.49000345  0.67405416  0.40103064]]\n"
     ]
    }
   ],
   "source": [
    "print(\"Matriz guardada y cargada:\")\n",
    "print(m_load)"
   ]
  },
  {
   "cell_type": "markdown",
   "metadata": {},
   "source": [
    "#### 1.3 Operaciones con matrices"
   ]
  },
  {
   "cell_type": "markdown",
   "metadata": {},
   "source": [
    "#### 1.3.1 Multiplicación de una matriz por un escalar"
   ]
  },
  {
   "cell_type": "code",
   "execution_count": 114,
   "metadata": {
    "collapsed": false
   },
   "outputs": [
    {
     "name": "stdout",
     "output_type": "stream",
     "text": [
      "[[ 9.  9.  9.  9.  9.]\n",
      " [ 9.  9.  9.  9.  9.]\n",
      " [ 9.  9.  9.  9.  9.]\n",
      " [ 9.  9.  9.  9.  9.]]\n"
     ]
    }
   ],
   "source": [
    "#Simplemente se multiplica la matriz por el escalar deseado\n",
    "resultado = m_unos * 9\n",
    "print(resultado)"
   ]
  },
  {
   "cell_type": "markdown",
   "metadata": {},
   "source": [
    "#### 1.3.2 Transpuesta "
   ]
  },
  {
   "cell_type": "code",
   "execution_count": 110,
   "metadata": {
    "collapsed": false
   },
   "outputs": [
    {
     "name": "stdout",
     "output_type": "stream",
     "text": [
      "[[ 9.  9.  9.  9.]\n",
      " [ 9.  9.  9.  9.]\n",
      " [ 9.  9.  9.  9.]\n",
      " [ 9.  9.  9.  9.]\n",
      " [ 9.  9.  9.  9.]]\n"
     ]
    }
   ],
   "source": [
    "#Para hacer la transpuesta de una matriz, sólo se utiliza el operador T a la matriz\n",
    "result_T = resultado.T\n",
    "print(result_T)"
   ]
  },
  {
   "cell_type": "markdown",
   "metadata": {},
   "source": [
    "#### 1.3.3 Multiplicación de matrices"
   ]
  },
  {
   "cell_type": "code",
   "execution_count": 120,
   "metadata": {
    "collapsed": false
   },
   "outputs": [
    {
     "name": "stdout",
     "output_type": "stream",
     "text": [
      "Índices de las matrices:\n",
      "(4, 5)\n",
      "(5, 4)\n",
      "\n",
      "Resultado de la multiplicación m_unos * result_T\n",
      "[[ 45.  45.  45.  45.]\n",
      " [ 45.  45.  45.  45.]\n",
      " [ 45.  45.  45.  45.]\n",
      " [ 45.  45.  45.  45.]]\n"
     ]
    }
   ],
   "source": [
    "#Para la multiplicación de matrices se necesitas que el índice las columnas de la primera matriz coincida \n",
    "#con el índice de renglones de la segunda matriz\n",
    "print(\"Índices de las matrices:\")\n",
    "print(m_unos.shape)\n",
    "print(result_T.shape)\n",
    "\n",
    "#Para realizar la operación se utiliza la función dot()\n",
    "print(\"\\nResultado de la multiplicación m_unos * result_T\")\n",
    "print(np.dot(m_unos, result_T))"
   ]
  },
  {
   "cell_type": "markdown",
   "metadata": {},
   "source": [
    "#### 1.3.4 Inversa de una matriz"
   ]
  },
  {
   "cell_type": "code",
   "execution_count": 125,
   "metadata": {
    "collapsed": false
   },
   "outputs": [
    {
     "data": {
      "text/plain": [
       "array([[-0.78008502, -0.13055746,  0.15746107,  1.76170224],\n",
       "       [ 4.58996391,  0.69381501, -1.46472064, -1.62501248],\n",
       "       [-3.59078075,  0.72044445,  1.1348223 , -0.15048664],\n",
       "       [ 2.68416407, -1.02377813,  0.48999554, -0.86786485]])"
      ]
     },
     "execution_count": 125,
     "metadata": {},
     "output_type": "execute_result"
    }
   ],
   "source": [
    "matriz2 = np.random.rand(4,4)\n",
    "\n",
    "#Para calcular la inversa de la matriz se utiliza la función inv() que está en un subpaquete de numpy llamado linalg\n",
    "np.linalg.inv(matriz2)"
   ]
  },
  {
   "cell_type": "markdown",
   "metadata": {},
   "source": [
    "> Hay un gran número de operaciones de álgebra lineal que se pueden realizar utilizando el paquete numpy, las cuales se pueden consultar en la siguiente página http://docs.scipy.org/doc/numpy-1.10.0/reference/routines.linalg.html"
   ]
  },
  {
   "cell_type": "markdown",
   "metadata": {},
   "source": [
    "### 2. Matplotlib (http://matplotlib.org/)"
   ]
  },
  {
   "cell_type": "markdown",
   "metadata": {},
   "source": [
    "Esta librería es usada para generar gráficas en 2D y 3D, donde cada una de las configuraciones de la gráfica es programable. En los siguientes ejemplos se mostrará la configuración básica de una gráfica."
   ]
  },
  {
   "cell_type": "code",
   "execution_count": 130,
   "metadata": {
    "collapsed": false
   },
   "outputs": [
    {
     "name": "stdout",
     "output_type": "stream",
     "text": [
      "Populating the interactive namespace from numpy and matplotlib\n"
     ]
    }
   ],
   "source": [
    "#Esta línea se ocupa para que las gráficas que se generen queden embebidas dentro de la página\n",
    "%pylab inline"
   ]
  },
  {
   "cell_type": "code",
   "execution_count": 131,
   "metadata": {
    "collapsed": true
   },
   "outputs": [],
   "source": [
    "#Importando las librerías\n",
    "import matplotlib.pyplot as plt\n",
    "from mpl_toolkits.mplot3d import Axes3D"
   ]
  },
  {
   "cell_type": "code",
   "execution_count": 167,
   "metadata": {
    "collapsed": true
   },
   "outputs": [],
   "source": [
    "#Datos de entrada\n",
    "X = linspace(0, 5, 10) #Generando 10 puntos entre 0 y 5"
   ]
  },
  {
   "cell_type": "code",
   "execution_count": 168,
   "metadata": {
    "collapsed": false
   },
   "outputs": [
    {
     "data": {
      "image/png": "[encoded data removed]",
      "text/plain": [
       "<matplotlib.figure.Figure at 0xb49957c3c8>"
      ]
     },
     "metadata": {},
     "output_type": "display_data"
    }
   ],
   "source": [
    "fig, ax = plt.subplots(facecolor='w', edgecolor='k')\n",
    "ax.plot(X, X**2, marker=\"o\",color=\"r\", linestyle='None')\n",
    "\n",
    "ax.grid(True)\n",
    "ax.set_xlabel('X')  #Etiqueta del eje x\n",
    "ax.set_ylabel('Y')  #Etiqueta del eje y\n",
    "ax.grid(True)\n",
    "ax.legend([\"y = x**2\"])\n",
    "\n",
    "plt.title('Puntos')\n",
    "plt.show()\n",
    "\n",
    "fig.savefig(\"gráfica.png\") #Guardando la gráfica"
   ]
  },
  {
   "cell_type": "code",
   "execution_count": 155,
   "metadata": {
    "collapsed": false
   },
   "outputs": [
    {
     "data": {
      "image/png": "[encoded data removed]",
      "text/plain": [
       "<matplotlib.figure.Figure at 0xb4993406d8>"
      ]
     },
     "metadata": {},
     "output_type": "display_data"
    }
   ],
   "source": [
    "fig, ax = subplots()\n",
    "\n",
    "ax.plot(X, X**2, label=\"y = x**2\", marker=\"o\",color=\"r\")\n",
    "ax.plot(X, X**3, label=\"y = x**3\", marker=\"+\",color=\"b\")\n",
    "ax.set_xlabel('X')\n",
    "ax.set_ylabel('Y')\n",
    "ax.grid(True)\n",
    "ax.legend(loc=2); \n",
    "\n",
    "plt.title('Dos gráficas')\n",
    "plt.show()"
   ]
  },
  {
   "cell_type": "code",
   "execution_count": 169,
   "metadata": {
    "collapsed": false
   },
   "outputs": [
    {
     "data": {
      "image/png": "[encoded data removed]",
      "text/plain": [
       "<matplotlib.figure.Figure at 0xb499583198>"
      ]
     },
     "metadata": {},
     "output_type": "display_data"
    }
   ],
   "source": [
    "fig, ax = subplots(nrows=1, ncols=2) #Se genera un renglón con dos columnas donde se generarán dos gráficas\n",
    "ax[0].plot(X, X**2, label=\"y = x**2\", marker=\"o\",color=\"r\")\n",
    "ax[0].set_xlabel('X')\n",
    "ax[0].set_ylabel('Y')\n",
    "ax[0].grid(True)\n",
    "ax[0].legend(loc=1); \n",
    "ax[0].set_title('Gráfica 1');\n",
    "\n",
    "ax[1].plot(X, X**3, label=\"y = x**3\", marker=\"o\",color=\"r\")\n",
    "ax[1].set_xlabel('X')\n",
    "ax[1].set_ylabel('Y')\n",
    "ax[1].grid(True)\n",
    "ax[1].legend(loc=2); \n",
    "ax[1].set_title('Gráfica 2');\n",
    "\n",
    "\n",
    "plt.show()"
   ]
  },
  {
   "cell_type": "markdown",
   "metadata": {},
   "source": [
    "# Bibliografía\n"
   ]
  },
  {
   "cell_type": "markdown",
   "metadata": {},
   "source": [
    "[1] Galería de notebooks: https://wakari.io/gallery <br>\n",
    "[2] Numpy: http://www.numpy.org/ <br>\n",
    "[3] Matplotlib: http://matplotlib.org <br>\n",
    "[4] Markdown: https://guides.github.com/features/mastering-markdown"
   ]
  }
 ],
 "metadata": {
  "kernelspec": {
   "display_name": "Python 3",
   "language": "python",
   "name": "python3"
  },
  "language_info": {
   "codemirror_mode": {
    "name": "ipython",
    "version": 3
   },
   "file_extension": ".py",
   "mimetype": "text/x-python",
   "name": "python",
   "nbconvert_exporter": "python",
   "pygments_lexer": "ipython3",
   "version": "3.5.0"
  }
 },
 "nbformat": 4,
 "nbformat_minor": 0
}
