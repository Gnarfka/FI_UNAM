{
 "cells": [
  {
   "cell_type": "markdown",
   "metadata": {},
   "source": [
    "<img src=\"img/logo.png\" height=\"400\" width=\"200\">"
   ]
  },
  {
   "cell_type": "markdown",
   "metadata": {},
   "source": [
    "# Guía práctica de estudio 10: *Introducción a Python (II)*"
   ]
  },
  {
   "cell_type": "markdown",
   "metadata": {},
   "source": [
    "### Elaborado por:\n",
    "\n",
    "* M.C. Edgar E. García Cano\n",
    "* Ing. Jorge A. Solano Gálvez\n",
    "\n",
    "### Autorizado por:\n",
    "* M.C. Alejandro Velázquez Mena"
   ]
  },
  {
   "cell_type": "markdown",
   "metadata": {},
   "source": [
    "## Objetivo:"
   ]
  },
  {
   "cell_type": "markdown",
   "metadata": {},
   "source": [
    "> Aplicar las bases del lenguaje de programación Python en el ambiente de Jupyter notebook. Al final de esta guía sabrás:\n",
    "1. Aplicar estructuras de control selectivas\n",
    "2. Aplicar estructuras de control repetitivas\n",
    "3. Usar las bibliotecas estándar\n",
    "4. Generar una gráfica\n",
    "5. Ejecutar un programa desde la ventana de comandos\n",
    "6. Pedir datos al usuario al momento de ejecutar un programa"
   ]
  },
  {
   "cell_type": "markdown",
   "metadata": {},
   "source": [
    "#### Repositorio de la guía:"
   ]
  },
  {
   "cell_type": "markdown",
   "metadata": {},
   "source": [
    ">Jupyter Notebook GitHub: [[ipynb](https://github.com/eegkno/FI_UNAM/blob/master/02_Estructuras_de_datos_y_algoritmos_1/P10/EDyA10_II.ipynb)]<br>\n",
    ">Jupyter Notebook Visualizador: [[nbviewer](http://nbviewer.jupyter.org/github/eegkno/FI_UNAM/blob/master/02_Estructuras_de_datos_y_algoritmos_1/P10/EDyA10_II.ipynb)]<br>"
   ]
  },
  {
   "cell_type": "markdown",
   "metadata": {},
   "source": [
    "<i class=\"fa fa-exclamation-triangle fa-2x\" aria-hidden=\"true\"></i> **Es sumamente importante respetar las indentaciones al momento de escribir código en Python. Se recomienda usar 4 espacios por nivel de indentación, los espacios son preferidos sobre el uso de tabuladores (https://www.python.org/dev/peps/pep-0008/#code-lay-out)**."
   ]
  },
  {
   "cell_type": "markdown",
   "metadata": {},
   "source": [
    "----"
   ]
  },
  {
   "cell_type": "markdown",
   "metadata": {},
   "source": [
    "## 1. Estructuras de control selectivas"
   ]
  },
  {
   "cell_type": "markdown",
   "metadata": {},
   "source": [
    "### 1.1 if"
   ]
  },
  {
   "cell_type": "markdown",
   "metadata": {},
   "source": [
    "* La declaración IF sirve para ejecutar código dependiendo del resultado de una condición."
   ]
  },
  {
   "cell_type": "code",
   "execution_count": 1,
   "metadata": {
    "collapsed": true
   },
   "outputs": [],
   "source": [
    "def obtenerMayor(param1,param2):\n",
    "    if param1 < param2:\n",
    "        print('{} es mayor que {}'.format(param2, param1))        "
   ]
  },
  {
   "cell_type": "code",
   "execution_count": 2,
   "metadata": {
    "collapsed": false
   },
   "outputs": [
    {
     "name": "stdout",
     "output_type": "stream",
     "text": [
      "7 es mayor que 5\n"
     ]
    }
   ],
   "source": [
    "obtenerMayor(5, 7) "
   ]
  },
  {
   "cell_type": "code",
   "execution_count": 3,
   "metadata": {
    "collapsed": true
   },
   "outputs": [],
   "source": [
    "obtenerMayor(7, 5)   #No imprime nada"
   ]
  },
  {
   "cell_type": "markdown",
   "metadata": {},
   "source": [
    "**Idiom**: Se puede encadenar más de una una condición sin tener que agregar un operador booleano. "
   ]
  },
  {
   "cell_type": "code",
   "execution_count": 4,
   "metadata": {
    "collapsed": false
   },
   "outputs": [
    {
     "name": "stdout",
     "output_type": "stream",
     "text": [
      "True\n"
     ]
    }
   ],
   "source": [
    "x = y = z = 3\n",
    "if x == y == z: \n",
    "    print(True)"
   ]
  },
  {
   "cell_type": "markdown",
   "metadata": {},
   "source": [
    "### 1.2 if-else"
   ]
  },
  {
   "cell_type": "markdown",
   "metadata": {},
   "source": [
    "* Este tipo de declaraciones se usan para dar una opción en el caso de que la condición no se cumpla."
   ]
  },
  {
   "cell_type": "code",
   "execution_count": 5,
   "metadata": {
    "collapsed": true
   },
   "outputs": [],
   "source": [
    "def obtenerMayorv2(param1,param2):\n",
    "    if param1 < param2:\n",
    "        return param2\n",
    "    else:\n",
    "        return param1"
   ]
  },
  {
   "cell_type": "code",
   "execution_count": 6,
   "metadata": {
    "collapsed": false
   },
   "outputs": [
    {
     "name": "stdout",
     "output_type": "stream",
     "text": [
      "El mayor es 20\n"
     ]
    }
   ],
   "source": [
    "print (\"El mayor es {}\".format( obtenerMayorv2(4, 20) )) "
   ]
  },
  {
   "cell_type": "code",
   "execution_count": 7,
   "metadata": {
    "collapsed": false
   },
   "outputs": [
    {
     "name": "stdout",
     "output_type": "stream",
     "text": [
      "El mayor es 11\n"
     ]
    }
   ],
   "source": [
    "print (\"El mayor es {}\".format( obtenerMayorv2(11, 6) )) "
   ]
  },
  {
   "cell_type": "markdown",
   "metadata": {},
   "source": [
    "**Idiom**: Para comparaciones simples, Python no tiene un operador ternario (x ? True : False), pero se puede emular con if-else:"
   ]
  },
  {
   "cell_type": "code",
   "execution_count": 8,
   "metadata": {
    "collapsed": false
   },
   "outputs": [],
   "source": [
    "def obtenerMayor_idiom(param1,param2):\n",
    "    #La variable valor va a tener el valor de param2 is el if es verdadero\n",
    "    #de lo contrario tendra el valor de param1\n",
    "    valor = param2 if (param1 < param2) else param1\n",
    "    return valor"
   ]
  },
  {
   "cell_type": "code",
   "execution_count": 9,
   "metadata": {
    "collapsed": false
   },
   "outputs": [
    {
     "name": "stdout",
     "output_type": "stream",
     "text": [
      "El mayor es 11\n"
     ]
    }
   ],
   "source": [
    "print (\"El mayor es {}\".format( obtenerMayor_idiom(11, 6) )) "
   ]
  },
  {
   "cell_type": "markdown",
   "metadata": {},
   "source": [
    "### 1.3 if-elif-else"
   ]
  },
  {
   "cell_type": "markdown",
   "metadata": {},
   "source": [
    "* Este tipo de declaraciones sirve para generar varias casos de prueba. En otros lenguajes es similar a case o switch."
   ]
  },
  {
   "cell_type": "code",
   "execution_count": 10,
   "metadata": {
    "collapsed": false
   },
   "outputs": [],
   "source": [
    "def numeros(num):\n",
    "    if num==1:\n",
    "     print (\"tu numero es 1\")\n",
    "    elif num==2:\n",
    "     print (\"el numero es 2\")\n",
    "    elif num==3:\n",
    "     print (\"el numero es 3\")\n",
    "    elif num==4:\n",
    "     print (\"el numero es 4\")\n",
    "    else:\n",
    "     print (\"no hay opcion\")"
   ]
  },
  {
   "cell_type": "code",
   "execution_count": 11,
   "metadata": {
    "collapsed": false
   },
   "outputs": [
    {
     "name": "stdout",
     "output_type": "stream",
     "text": [
      "el numero es 2\n"
     ]
    }
   ],
   "source": [
    "numeros(2)"
   ]
  },
  {
   "cell_type": "code",
   "execution_count": 12,
   "metadata": {
    "collapsed": false
   },
   "outputs": [
    {
     "name": "stdout",
     "output_type": "stream",
     "text": [
      "no hay opcion\n"
     ]
    }
   ],
   "source": [
    "numeros(5)"
   ]
  },
  {
   "cell_type": "markdown",
   "metadata": {},
   "source": [
    "**Idiom**: En alunos casos, se puede evitar la repetición de código del if-elif-else de la siguiente manera:"
   ]
  },
  {
   "cell_type": "code",
   "execution_count": 13,
   "metadata": {
    "collapsed": false
   },
   "outputs": [],
   "source": [
    "def numeros_idiom(num):\n",
    "    #La tupla tiene las opciones válidas\n",
    "    if num in (1,2,3,4):\n",
    "        print(\"tu numero es {}\".format(num))\n",
    "    else:\n",
    "        print (\"{} no es una opcion\".format(num))"
   ]
  },
  {
   "cell_type": "code",
   "execution_count": 14,
   "metadata": {
    "collapsed": false
   },
   "outputs": [
    {
     "name": "stdout",
     "output_type": "stream",
     "text": [
      "tu numero es 2\n"
     ]
    }
   ],
   "source": [
    "numeros_idiom(2)"
   ]
  },
  {
   "cell_type": "code",
   "execution_count": 15,
   "metadata": {
    "collapsed": false
   },
   "outputs": [
    {
     "name": "stdout",
     "output_type": "stream",
     "text": [
      "5 no es una opcion\n"
     ]
    }
   ],
   "source": [
    "numeros_idiom(5)"
   ]
  },
  {
   "cell_type": "markdown",
   "metadata": {},
   "source": [
    "Estructura de control selectiva anidada"
   ]
  },
  {
   "cell_type": "code",
   "execution_count": 16,
   "metadata": {
    "collapsed": true
   },
   "outputs": [],
   "source": [
    "def obtenerMasGrande(a, b, c):\n",
    "    if a > b:\n",
    "        if a > c:\n",
    "            return a\n",
    "        else:\n",
    "            return c\n",
    "    else:\n",
    "        if b > c:\n",
    "            return b\n",
    "        else:\n",
    "            return c"
   ]
  },
  {
   "cell_type": "code",
   "execution_count": 17,
   "metadata": {
    "collapsed": false
   },
   "outputs": [
    {
     "name": "stdout",
     "output_type": "stream",
     "text": [
      "El mas grande es 13\n"
     ]
    }
   ],
   "source": [
    "print (\"El mas grande es {}\".format(obtenerMasGrande(7,13,1) ))"
   ]
  },
  {
   "cell_type": "markdown",
   "metadata": {},
   "source": [
    "----"
   ]
  },
  {
   "cell_type": "markdown",
   "metadata": {},
   "source": [
    "## 2. Estruturas de control repetitivas"
   ]
  },
  {
   "cell_type": "markdown",
   "metadata": {},
   "source": [
    "### 2.1 Ciclo while"
   ]
  },
  {
   "cell_type": "markdown",
   "metadata": {},
   "source": [
    "* Un ciclo es la manera de ejecutar una o varias acciones repetidamente. A diferencia del IF o IF-ELSE que sólo se ejecuta una vez.\n",
    "* Para que el ciclo se ejecute, la condición siempre tiene que ser verdadera.\n"
   ]
  },
  {
   "cell_type": "code",
   "execution_count": 18,
   "metadata": {
    "collapsed": false
   },
   "outputs": [],
   "source": [
    "#Ejemplo 1\n",
    "def cuenta(limite):\n",
    "    i = limite\n",
    "    while True:\n",
    "        print (i)\n",
    "        i = i -1\n",
    "        if i == 0:\n",
    "            break # Rompiendo el ciclo"
   ]
  },
  {
   "cell_type": "code",
   "execution_count": 19,
   "metadata": {
    "collapsed": false
   },
   "outputs": [
    {
     "name": "stdout",
     "output_type": "stream",
     "text": [
      "10\n",
      "9\n",
      "8\n",
      "7\n",
      "6\n",
      "5\n",
      "4\n",
      "3\n",
      "2\n",
      "1\n"
     ]
    }
   ],
   "source": [
    "cuenta(10)"
   ]
  },
  {
   "cell_type": "code",
   "execution_count": 20,
   "metadata": {
    "collapsed": true
   },
   "outputs": [],
   "source": [
    "#Ejemplo 2\n",
    "def factorial(n):\n",
    "    i = 2\n",
    "    tmp = 1\n",
    "    while i <n+1:\n",
    "        tmp = tmp * i\n",
    "        i = i + 1\n",
    "    return tmp"
   ]
  },
  {
   "cell_type": "code",
   "execution_count": 21,
   "metadata": {
    "collapsed": false
   },
   "outputs": [
    {
     "name": "stdout",
     "output_type": "stream",
     "text": [
      "24\n"
     ]
    }
   ],
   "source": [
    "print (factorial(4))"
   ]
  },
  {
   "cell_type": "code",
   "execution_count": 22,
   "metadata": {
    "collapsed": false
   },
   "outputs": [
    {
     "name": "stdout",
     "output_type": "stream",
     "text": [
      "720\n"
     ]
    }
   ],
   "source": [
    "print (factorial(6))"
   ]
  },
  {
   "cell_type": "markdown",
   "metadata": {},
   "source": [
    "### 2.2 Ciclo for"
   ]
  },
  {
   "cell_type": "markdown",
   "metadata": {},
   "source": [
    "* Este ciclo es el más común usado en Python, se utiliza generalmente para hacer iteraciones en una lista, diccionarios y arreglos."
   ]
  },
  {
   "cell_type": "markdown",
   "metadata": {},
   "source": [
    "### Iteración en listas"
   ]
  },
  {
   "cell_type": "code",
   "execution_count": 23,
   "metadata": {
    "collapsed": false
   },
   "outputs": [
    {
     "name": "stdout",
     "output_type": "stream",
     "text": [
      "1\n",
      "2\n",
      "3\n",
      "4\n",
      "5\n"
     ]
    }
   ],
   "source": [
    "for x in [1,2,3,4,5]:\n",
    "    print(x)"
   ]
  },
  {
   "cell_type": "code",
   "execution_count": 24,
   "metadata": {
    "collapsed": false
   },
   "outputs": [
    {
     "name": "stdout",
     "output_type": "stream",
     "text": [
      "0\n",
      "1\n",
      "2\n",
      "3\n",
      "4\n"
     ]
    }
   ],
   "source": [
    "#La función range() sirve para generar una lista\n",
    "for x in range(5): #este caso es equivalente a range(0,5)\n",
    "    print(x)"
   ]
  },
  {
   "cell_type": "code",
   "execution_count": 25,
   "metadata": {
    "collapsed": false
   },
   "outputs": [
    {
     "name": "stdout",
     "output_type": "stream",
     "text": [
      "-5\n",
      "-4\n",
      "-3\n",
      "-2\n",
      "-1\n",
      "0\n",
      "1\n"
     ]
    }
   ],
   "source": [
    "#También se puede inizializar desde números negativos \n",
    "for x in range(-5,2):\n",
    "    print(x)"
   ]
  },
  {
   "cell_type": "code",
   "execution_count": 26,
   "metadata": {
    "collapsed": false
   },
   "outputs": [
    {
     "name": "stdout",
     "output_type": "stream",
     "text": [
      "uno\n",
      "dos\n",
      "tres\n",
      "cuatro\n"
     ]
    }
   ],
   "source": [
    "for num in [\"uno\", \"dos\", \"tres\", \"cuatro\"]:\n",
    "    print(num)"
   ]
  },
  {
   "cell_type": "markdown",
   "metadata": {},
   "source": [
    "### Iteración en diccionarios"
   ]
  },
  {
   "cell_type": "code",
   "execution_count": 27,
   "metadata": {
    "collapsed": false
   },
   "outputs": [
    {
     "name": "stdout",
     "output_type": "stream",
     "text": [
      "carbon  =  6\n",
      "hidrogeno  =  1\n",
      "helio  =  2\n"
     ]
    }
   ],
   "source": [
    "#Creando un diccionario\n",
    "elementos = { 'hidrogeno': 1, 'helio': 2, 'carbon': 6 }\n",
    "\n",
    "for llave, valor in elementos.items():\n",
    "    print(llave, \" = \", valor)"
   ]
  },
  {
   "cell_type": "code",
   "execution_count": 28,
   "metadata": {
    "collapsed": false
   },
   "outputs": [
    {
     "name": "stdout",
     "output_type": "stream",
     "text": [
      "carbon\n",
      "hidrogeno\n",
      "helio\n"
     ]
    }
   ],
   "source": [
    "#Obteniendo sólo las llaves\n",
    "for llave in elementos.keys():\n",
    "    print(llave)"
   ]
  },
  {
   "cell_type": "code",
   "execution_count": 29,
   "metadata": {
    "collapsed": false
   },
   "outputs": [
    {
     "name": "stdout",
     "output_type": "stream",
     "text": [
      "6\n",
      "1\n",
      "2\n"
     ]
    }
   ],
   "source": [
    "#Obteniendo sólo los valores\n",
    "for valor in elementos.values():\n",
    "    print(valor)"
   ]
  },
  {
   "cell_type": "markdown",
   "metadata": {},
   "source": [
    "**Idiom**: En algunos lenguajes de programación se crea un índice para iterar un conjunto de elementos (for (int i=0; i < elementos.size(); ++i)), sin embargo con Python se puede utilizar la función enumerate() en su lugar."
   ]
  },
  {
   "cell_type": "code",
   "execution_count": 30,
   "metadata": {
    "collapsed": false
   },
   "outputs": [
    {
     "name": "stdout",
     "output_type": "stream",
     "text": [
      "El indice es: 0 y el elemento: carbon\n",
      "El indice es: 1 y el elemento: hidrogeno\n",
      "El indice es: 2 y el elemento: helio\n"
     ]
    }
   ],
   "source": [
    "#Si se necesita iterar utilizando un índice\n",
    "for idx, x in enumerate(elementos):\n",
    "    print(\"El indice es: {} y el elemento: {}\".format(idx, x))"
   ]
  },
  {
   "cell_type": "markdown",
   "metadata": {},
   "source": [
    "**Idiom**: Los ciclos for pueden hacer uso del else una vez que terminan de iterar, pero no funciona si se rompe el ciclo."
   ]
  },
  {
   "cell_type": "code",
   "execution_count": 31,
   "metadata": {
    "collapsed": true
   },
   "outputs": [],
   "source": [
    "def cuenta_idiom(limite):\n",
    "    for i in range(limite, 0, -1):\n",
    "        print(i)\n",
    "    else: #Corresponde al for, NO al IF \n",
    "        print(\"Cuenta finalizada\")"
   ]
  },
  {
   "cell_type": "code",
   "execution_count": 32,
   "metadata": {
    "collapsed": false
   },
   "outputs": [
    {
     "name": "stdout",
     "output_type": "stream",
     "text": [
      "5\n",
      "4\n",
      "3\n",
      "2\n",
      "1\n",
      "Cuenta finalizada\n"
     ]
    }
   ],
   "source": [
    "cuenta_idiom(5)"
   ]
  },
  {
   "cell_type": "code",
   "execution_count": 33,
   "metadata": {
    "collapsed": true
   },
   "outputs": [],
   "source": [
    "#Se rompe el ciclo y la sentencia else del for no se ejecuta\n",
    "def cuenta_idiomv2(limite):\n",
    "    for i in range(limite, 0, -1):\n",
    "        print(i)\n",
    "        if i == 3:\n",
    "            break  #Se rompe el ciclo\n",
    "    else: #Corresponde al FOR, NO al IF \n",
    "        print(\"Cuenta finalizada\")"
   ]
  },
  {
   "cell_type": "code",
   "execution_count": 34,
   "metadata": {
    "collapsed": false
   },
   "outputs": [
    {
     "name": "stdout",
     "output_type": "stream",
     "text": [
      "5\n",
      "4\n",
      "3\n"
     ]
    }
   ],
   "source": [
    "cuenta_idiomv2(5)"
   ]
  },
  {
   "cell_type": "markdown",
   "metadata": {},
   "source": [
    "----"
   ]
  },
  {
   "cell_type": "markdown",
   "metadata": {
    "collapsed": true
   },
   "source": [
    "## 3. Bibliotecas"
   ]
  },
  {
   "cell_type": "markdown",
   "metadata": {},
   "source": [
    "Todas las funcionalidades de Python son proporcionadas a través de bibliotecas que se encuentran en la colección de *The Python Standard Library*, la mayoría de estas bibliotecas son multi-plataforma."
   ]
  },
  {
   "cell_type": "markdown",
   "metadata": {},
   "source": [
    "**Referencia del lenguaje:** https://docs.python.org/3/reference/index.html<br>\n",
    "**Bibliotecas estandar:** https://docs.python.org/3/library/ "
   ]
  },
  {
   "cell_type": "code",
   "execution_count": 35,
   "metadata": {
    "collapsed": false
   },
   "outputs": [
    {
     "name": "stdout",
     "output_type": "stream",
     "text": [
      "-1.0\n"
     ]
    }
   ],
   "source": [
    "#Para utilizar una biblioteca, ésta se debe de importar\n",
    "import math\n",
    "\n",
    "x = math.cos(math.pi)\n",
    "\n",
    "print(x)"
   ]
  },
  {
   "cell_type": "code",
   "execution_count": 36,
   "metadata": {
    "collapsed": false
   },
   "outputs": [
    {
     "name": "stdout",
     "output_type": "stream",
     "text": [
      "-1.0\n"
     ]
    }
   ],
   "source": [
    "#También se pueden importar todas las funciones de la bibliotecas, de esta manera no se tiene que usar el prefijo \n",
    "#de la biblioteca, que en el ejemplo anterior fue math \n",
    "from math import *\n",
    "\n",
    "x = cos(pi)  #No se utiliza el prefijo math\n",
    "\n",
    "print(x)"
   ]
  },
  {
   "cell_type": "code",
   "execution_count": 37,
   "metadata": {
    "collapsed": false
   },
   "outputs": [
    {
     "name": "stdout",
     "output_type": "stream",
     "text": [
      "-1.0\n"
     ]
    }
   ],
   "source": [
    "#Otra manera es importar sólo las funciones que se necesitan\n",
    "from math import cos, pi\n",
    "\n",
    "x = cos(pi)\n",
    "\n",
    "print(x)"
   ]
  },
  {
   "cell_type": "code",
   "execution_count": 38,
   "metadata": {
    "collapsed": false
   },
   "outputs": [
    {
     "name": "stdout",
     "output_type": "stream",
     "text": [
      "['__doc__', '__loader__', '__name__', '__package__', '__spec__', 'acos', 'acosh', 'asin', 'asinh', 'atan', 'atan2', 'atanh', 'ceil', 'copysign', 'cos', 'cosh', 'degrees', 'e', 'erf', 'erfc', 'exp', 'expm1', 'fabs', 'factorial', 'floor', 'fmod', 'frexp', 'fsum', 'gamma', 'gcd', 'hypot', 'inf', 'isclose', 'isfinite', 'isinf', 'isnan', 'ldexp', 'lgamma', 'log', 'log10', 'log1p', 'log2', 'modf', 'nan', 'pi', 'pow', 'radians', 'sin', 'sinh', 'sqrt', 'tan', 'tanh', 'trunc']\n"
     ]
    }
   ],
   "source": [
    "#Una vez que la biblioteca está importada, se pueden conocer las funciones que éste contiene\n",
    "print(dir(math))"
   ]
  },
  {
   "cell_type": "code",
   "execution_count": 39,
   "metadata": {
    "collapsed": false
   },
   "outputs": [
    {
     "name": "stdout",
     "output_type": "stream",
     "text": [
      "Help on built-in function log in module math:\n",
      "\n",
      "log(...)\n",
      "    log(x[, base])\n",
      "    \n",
      "    Return the logarithm of x to the given base.\n",
      "    If the base not specified, returns the natural logarithm (base e) of x.\n",
      "\n"
     ]
    }
   ],
   "source": [
    "#Para conocer cómo utilizar las funciones, se puede utilizar la función help\n",
    "help(math.log)"
   ]
  },
  {
   "cell_type": "code",
   "execution_count": 40,
   "metadata": {
    "collapsed": false
   },
   "outputs": [
    {
     "name": "stdout",
     "output_type": "stream",
     "text": [
      "-1.0\n"
     ]
    }
   ],
   "source": [
    "#Se puede definir un alias para llamar a las funciones que tiene la biblioteca math.\n",
    "#Esta es la forma más recomendada para importar módulos, ya que de esta manera se sabe de qué módulo proviene la función.\n",
    "import math as ma\n",
    "\n",
    "x = ma.cos(ma.pi)\n",
    "\n",
    "print(x)"
   ]
  },
  {
   "cell_type": "markdown",
   "metadata": {},
   "source": [
    "### 3.1 Bibliotecas más usadas"
   ]
  },
  {
   "cell_type": "markdown",
   "metadata": {},
   "source": [
    "**NumPy** (Numerical Python). Es una de las bibliotecas más populares de Python, es usado para realizar operaciones con vectores o matrices de una manera eficiente. Contiene funciones de Álgebra Lineal, transformadas de Fourier, generación de números aleatorios e integración con Fortran, C y C++. <br>\n",
    "Fuente: http://www.numpy.org/\n",
    "\n",
    "**SciPy** (Scientific Python). Es una biblioteca hace uso de *Numpy* y es utilizada para hacer operaciones más avanzadas como transformadas discretas de Fourier, Álgebra Lineal, Optimización, etc.<br>\n",
    "Fuente: http://www.scipy.org/\n",
    "\n",
    "**Matplotlib**. Esta biblioteca es usada para generar una veriedad de gráficas en 2D y 3D, donde cada una de las configuraciones de la gráfica es programable. Se puede usar comando de Latex para agregar ecuaciones matemáticas a las gráficas.<br>\n",
    "Fuente: http://matplotlib.org/\n",
    "\n",
    "**Scikit Learn**  (Machine Learning). Ésta biblioteca está basada en los anteriores y contiene algoritmos de aprendizaje de máquina, reconocimiento de patrones y estadísticas para realizar clasificación, regresión, clustering, etc.<br>\n",
    "Fuente: http://scikit-learn.org/\n",
    "\n",
    "**Pandas** (Manipulación de datos). Esta biblioteca es utilizada para manipulación de datos, contiene estructuras de datos llamadas data frames que se asemejan a las hojas de cálculo y a los cuales se le puede aplicar una gran cantidad de funciones.\n",
    "Fuente: http://pandas.pydata.org/"
   ]
  },
  {
   "cell_type": "markdown",
   "metadata": {},
   "source": [
    "**ANEXO 1**: En esta guía se explica de manera más detallada el uso de las bibliotecas *Numpy* y *Matplotlib*.\n",
    ">Jupyter Notebook GitHub: [[ipynb](https://github.com/eegkno/FI_UNAM/blob/master/02_Estructuras_de_datos_y_algoritmos_1/Anexos/Anexo_I.ipynb)]<br>\n",
    ">Jupyter Notebook Visualizador: [[nbviewer](http://nbviewer.jupyter.org/github/eegkno/FI_UNAM/blob/master/02_Estructuras_de_datos_y_algoritmos_1/Anexos/Anexo_I.ipynb)]<br>\n",
    "    "
   ]
  },
  {
   "cell_type": "markdown",
   "metadata": {},
   "source": [
    "----"
   ]
  },
  {
   "cell_type": "markdown",
   "metadata": {},
   "source": [
    "## 4. Graficación"
   ]
  },
  {
   "cell_type": "markdown",
   "metadata": {},
   "source": [
    "Matplotlib (http://matplotlib.org/) es una biblioteca usada para generar gráficas en 2D y 3D, donde cada una de las configuraciones de la gráfica es programable. En el siguiente ejemplo se mostrará la configuración básica de una gráfica."
   ]
  },
  {
   "cell_type": "markdown",
   "metadata": {},
   "source": [
    "EL API de matplotlib se encuentra en http://matplotlib.org/api/index.html"
   ]
  },
  {
   "cell_type": "code",
   "execution_count": 41,
   "metadata": {
    "collapsed": false
   },
   "outputs": [
    {
     "name": "stdout",
     "output_type": "stream",
     "text": [
      "Populating the interactive namespace from numpy and matplotlib\n"
     ]
    },
    {
     "name": "stderr",
     "output_type": "stream",
     "text": [
      "WARNING: pylab import has clobbered these variables: ['log', 'hypot', 'trunc', 'pi', 'sqrt', 'expm1', 'fmod', 'log1p', 'isfinite', 'isinf', 'copysign', 'ceil', 'fabs', 'ldexp', 'isclose', 'nan', 'sinh', 'exp', 'ma', 'degrees', 'log2', 'e', 'modf', 'tan', 'floor', 'radians', 'isnan', 'tanh', 'cosh', 'cos', 'gamma', 'sin', 'frexp', 'log10', 'inf']\n",
      "`%matplotlib` prevents importing * from pylab and numpy\n"
     ]
    }
   ],
   "source": [
    "#Esta línea se ocupa para que las gráficas que se generen queden embebidas dentro de la página\n",
    "%pylab inline  "
   ]
  },
  {
   "cell_type": "code",
   "execution_count": 42,
   "metadata": {
    "collapsed": true
   },
   "outputs": [],
   "source": [
    "#Importando las bibliotecas\n",
    "import matplotlib.pyplot as plt\n",
    "from mpl_toolkits.mplot3d import Axes3D"
   ]
  },
  {
   "cell_type": "code",
   "execution_count": 43,
   "metadata": {
    "collapsed": true
   },
   "outputs": [],
   "source": [
    "#Datos de entrada\n",
    "x = linspace(0, 5, 20) #Generando 10 puntos entre 0 y 5"
   ]
  },
  {
   "cell_type": "code",
   "execution_count": 44,
   "metadata": {
    "collapsed": false,
    "scrolled": true
   },
   "outputs": [
    {
     "data": {
      "image/png": "[encoded data removed]",
      "text/plain": [
       "<matplotlib.figure.Figure at 0x1da5cc86780>"
      ]
     },
     "metadata": {},
     "output_type": "display_data"
    }
   ],
   "source": [
    "fig, ax = plt.subplots(facecolor='w', edgecolor='k')\n",
    "ax.plot(x, sin(x), marker=\"o\",color=\"r\", linestyle='None')\n",
    "\n",
    "ax.grid(True)\n",
    "ax.set_xlabel('X')  #Etiqueta del eje x\n",
    "ax.set_ylabel('Y')  #Etiqueta del eje y\n",
    "ax.grid(True)\n",
    "ax.legend([\"y = x**2\"])\n",
    "\n",
    "plt.title('Puntos')\n",
    "plt.show()\n",
    "\n",
    "fig.savefig(\"gráfica.png\") #Guardando la gráfica"
   ]
  },
  {
   "cell_type": "markdown",
   "metadata": {},
   "source": [
    "----"
   ]
  },
  {
   "cell_type": "markdown",
   "metadata": {},
   "source": [
    "## 5. Ejecución desde ventana de comandos"
   ]
  },
  {
   "cell_type": "markdown",
   "metadata": {},
   "source": [
    "Todos el código que se ha visto hasta el momento puede ser guardado en archivos de texto plano con la extensión *.py*. Para ejecutarlo desde la ventana de comandos se escribe el comando:\n",
    "\n",
    "```\n",
    "python   nombre_archivo.py  \n",
    "```\n",
    "\n",
    "**Hay que recordar que para Python es sumamente importante respetar las tabulaciones.**"
   ]
  },
  {
   "cell_type": "markdown",
   "metadata": {},
   "source": [
    "### 5.1 Entrada de datos "
   ]
  },
  {
   "cell_type": "markdown",
   "metadata": {},
   "source": [
    "Al igual que en otros lenguajes, también se puede se le puede pedir al usuario que introduzca ciertos datos de entrada cuando se ejecute un programa. Esto no se puede hacer desde la notebook, ya que los datos se introducen en las celdas que se van agregando a lo largo de la página, tal y como se ha venido manejando hast ahora. Como ejemplo se va a ejecutar el archivo *lectura_datos.py* desde una ventana de comandos.\n",
    "\n",
    "```\n",
    "python   lectura_datos.py  \n",
    "```\n",
    "\n",
    "Al momento de ejecutar el programa, se va a pedir al usuario que introduzca su nombre, esto se logra con el siguiente código:\n",
    "\n",
    "```\n",
    "print (\"Hola, ¿cómo te llamas?\")     #Se pide el nombre al usuario\n",
    "nombre = input()                     #Se leen los datos introducidos por el usuario y se asiganan a la variable nombre\n",
    "print (\"Buen día {}\".format(nombre)  #Se escribe el nombre solicitado\n",
    "```\n",
    "\n",
    "Después de esto se despliega un menú donde se indican las operaciones que puede realizar el usuario, una vez que indicada la operación, se solicitan los datos necesarios para ejecutarla.\n",
    "\n",
    "```\n",
    "\n",
    "print (\"---Calculadora---\")          #Opciones para el usuario\n",
    "print (\"1- Sumar\")\n",
    "print (\"2- Restar\")\n",
    "print (\"3- Multiplicar\")\n",
    "print (\"4- Dividir\")\n",
    "print (\"5- Salir\")\n",
    "```\n",
    "\n",
    "En la siguiente línea se solicita que el usuario especifique alguna de las operaciones, a diferencia de la primera petición, la función *input()* ahora tiene una cadena que se le despliega al usuario. A su vez, los datos que recibe la función *input()* son de tipo string, por lo que se tienen que transformar a entero con la función *int()* para poder realizar operaciones aritméticas.\n",
    "\n",
    "```\n",
    "op = int(input('Opcion: '))          \n",
    "```\n"
   ]
  },
  {
   "cell_type": "markdown",
   "metadata": {},
   "source": [
    "----"
   ]
  },
  {
   "cell_type": "markdown",
   "metadata": {},
   "source": [
    "## Bibliografía"
   ]
  },
  {
   "cell_type": "markdown",
   "metadata": {},
   "source": [
    "[1] Tutorial oficial de Python: https://docs.python.org/3/tutorial/<br>\n",
    "[2]´Galería de notebooks: https://wakari.io/gallery <br>\n",
    "[3] Matplotlib: http://matplotlib.org/"
   ]
  }
 ],
 "metadata": {
  "anaconda-cloud": {},
  "kernelspec": {
   "display_name": "Python [test]",
   "language": "python",
   "name": "Python [test]"
  },
  "language_info": {
   "codemirror_mode": {
    "name": "ipython",
    "version": 3
   },
   "file_extension": ".py",
   "mimetype": "text/x-python",
   "name": "python",
   "nbconvert_exporter": "python",
   "pygments_lexer": "ipython3",
   "version": "3.5.1"
  }
 },
 "nbformat": 4,
 "nbformat_minor": 0
}
