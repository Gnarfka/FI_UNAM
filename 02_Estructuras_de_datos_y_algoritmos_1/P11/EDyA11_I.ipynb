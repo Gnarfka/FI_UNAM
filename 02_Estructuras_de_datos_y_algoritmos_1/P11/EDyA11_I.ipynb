{
 "cells": [
  {
   "cell_type": "markdown",
   "metadata": {},
   "source": [
    "# Guía práctica de estudio 11: <br>Estrategias para la construcción de algoritmos (I)"
   ]
  },
  {
   "cell_type": "markdown",
   "metadata": {},
   "source": [
    "<img src=\"img/logo.png\" height=\"600\" width=\"400\">"
   ]
  },
  {
   "cell_type": "markdown",
   "metadata": {},
   "source": [
    "### Elaborado por:\n",
    "\n",
    "* M.C. Edgar E. García Cano\n",
    "* Ing. Jorge A. Solano Gálvez\n",
    "\n",
    "### Autorizado por:\n",
    "* M.C. Alejandro Velázquez Mena"
   ]
  },
  {
   "cell_type": "markdown",
   "metadata": {},
   "source": [
    "## Objetivo:"
   ]
  },
  {
   "cell_type": "markdown",
   "metadata": {
    "collapsed": true
   },
   "source": [
    "## 1. Fuerza bruta"
   ]
  },
  {
   "cell_type": "markdown",
   "metadata": {},
   "source": [
    "El objetivo de resolver problemas por medio de fuerza es bruta, es hacer una búsqueda exhaustivamente todas las posibilidades que nos lleve a la solución. Un ejemplo de esto es la encontrar cierta contraseña haciendo una combinación exhaustivamente de caracteres alfanuméricos generando cadenas de caracteres de cierta longitud. La desventaja de resolver problemas por medio de esta técnica es el tiempo."
   ]
  },
  {
   "cell_type": "markdown",
   "metadata": {},
   "source": [
    "A continuación se muestra una implementación de un buscador de contraseñas de entre 3 y 4 caracteres. Para este ejemplo se va a usar la librería *string*, de ésta se van a importar los caracteres y dígitos que puede tener los caracteres alfanuméricos que van a servir para adivinar la contraseña. También se usa la librería *itertools* (https://docs.python.org/3/library/itertools.html#).<br>\n",
    "La librería *itertools* tiene una función llamada *product()* (https://docs.python.org/3/library/itertools.html#itertools.product) que se va a utilizar para realizar las combinaciones en cadenas de 3 y cuatro caracteres."
   ]
  },
  {
   "cell_type": "markdown",
   "metadata": {},
   "source": [
    "**Tip:** Para guardar datos en un archivo se utiliza la función open(), que es para tener una referencia del archivo que se quiere abrir (https://docs.python.org/3/tutorial/inputoutput.html#reading-and-writing-files). Después, con esa referencia se utiliza la función *write()*, que recibe la cadena que se va a escribir en el archivo. Finalmente, una vez que se finaliza la escritura del archivo se cierra la función close()."
   ]
  },
  {
   "cell_type": "code",
   "execution_count": 30,
   "metadata": {
    "collapsed": false
   },
   "outputs": [],
   "source": [
    "from string import ascii_letters , digits\n",
    "from itertools import product\n",
    "\n",
    "#Concatenar letas y dígitos\n",
    "caracteres = ascii_letters+digits\n",
    "\n",
    "\n",
    "\n",
    "def buscador(con):\n",
    "    \n",
    "    #Archivo con todas las combinaciones generadas\n",
    "    archivo = open(\"combinaciones.txt\", \"w\")\n",
    "    \n",
    "    if 3<= len(con) <= 4:\n",
    "        for i in range(3,5):\n",
    "            for comb in product(caracteres, repeat = i):\n",
    "                #Se utiliza join() para concatenar los caracteres regresado por la función product()\n",
    "                prueba = \"\".join(comb)     \n",
    "                #Escribiendo al archivo\n",
    "                archivo.write( prueba + \"\\n\"  )\n",
    "                if  prueba == con:\n",
    "                    print('Tu contraseña es {}'.format(prueba))\n",
    "                    #Cerrando el archivo\n",
    "                    archivo.close()\n",
    "                    break\n",
    "    else:\n",
    "        print('Ingresa una contraseña que contenga de 3 a 4 caracteres')"
   ]
  },
  {
   "cell_type": "code",
   "execution_count": 32,
   "metadata": {
    "collapsed": false
   },
   "outputs": [
    {
     "name": "stdout",
     "output_type": "stream",
     "text": [
      "Ingresa una contraseña que contenga de 3 a 4 caracteres\n",
      "Tiempos de ejecución 0.019046\n"
     ]
    }
   ],
   "source": [
    "from time import time\n",
    "t0 = time() \n",
    "con = 'H0l4'\n",
    "buscador(con)\n",
    "print(\"Tiempos de ejecución {}\".format(round(time()-t0, 6)))"
   ]
  },
  {
   "cell_type": "markdown",
   "metadata": {},
   "source": [
    "## 2. Top-down y bottom-up "
   ]
  },
  {
   "cell_type": "markdown",
   "metadata": {},
   "source": [
    "# Bibliografía"
   ]
  },
  {
   "cell_type": "markdown",
   "metadata": {},
   "source": [
    "[1] *Design and analysis of algorithms*; Prabhakar Gupta and Manish Varshney; PHI Learning, 2012, segunda edición.<br>\n",
    "[2] *Introduction to Algorithms*, Thomas H. Cormen, Charles E. Leiserson, Ronald L. Rivest and Clifford Stein; The MIT Press; 2009, tercera edicion.<br>\n",
    "[3] *Problem Solving with Algorithms and Data Structures using Python*; Bradley N. Miller and David L. Ranum, Franklin, Beedle & Associates; 2011, segunda edition.<br>\n",
    "[4] https://docs.python.org/3/library/itertools.html#<br><br>\n",
    "[5] https://docs.python.org/3/library/itertools.html#itertools.product<br>\n",
    "[6] https://docs.python.org/3/tutorial/inputoutput.html#reading-and-writing-files"
   ]
  }
 ],
 "metadata": {
  "kernelspec": {
   "display_name": "Python 3",
   "language": "python",
   "name": "python3"
  },
  "language_info": {
   "codemirror_mode": {
    "name": "ipython",
    "version": 3
   },
   "file_extension": ".py",
   "mimetype": "text/x-python",
   "name": "python",
   "nbconvert_exporter": "python",
   "pygments_lexer": "ipython3",
   "version": "3.5.0"
  }
 },
 "nbformat": 4,
 "nbformat_minor": 0
}
