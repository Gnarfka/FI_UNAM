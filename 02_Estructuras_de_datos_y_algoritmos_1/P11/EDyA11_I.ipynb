{
 "cells": [
  {
   "cell_type": "markdown",
   "metadata": {},
   "source": [
    "# Guía práctica de estudio 11: <br>Estrategias para la construcción de algoritmos (I)"
   ]
  },
  {
   "cell_type": "markdown",
   "metadata": {},
   "source": [
    "## Enfoques de diseño de algoritmos"
   ]
  },
  {
   "cell_type": "markdown",
   "metadata": {},
   "source": [
    "Hay básicamente dos enfoques para el diseño de algoritmos:\n",
    "    1. Incremental\n",
    "    2. Divide y vencerás"
   ]
  },
  {
   "cell_type": "markdown",
   "metadata": {},
   "source": [
    "## 1. Incremental \n"
   ]
  },
  {
   "cell_type": "markdown",
   "metadata": {},
   "source": [
    "> https://books.google.ca/books?id=XMKq6zB3l4EC&pg=PA19&lpg=PA19&dq=design+algorithms+incremental+approach&source=bl&ots=n0RFRa0o1a&sig=ZxOArp8Pp-oym4ba-ST2C8hb02o&hl=es-419&sa=X&ved=0ahUKEwizzeHShabKAhXCcj4KHTBeB9IQ6AEIUzAG#v=onepage&q=design%20algorithms%20incremental%20approach&f=false"
   ]
  },
  {
   "cell_type": "code",
   "execution_count": 130,
   "metadata": {
    "collapsed": false
   },
   "outputs": [],
   "source": [
    "def insertionSort(n_lista):\n",
    "    for index in range(1,len(n_lista)):\n",
    "        actual = n_lista[index]\n",
    "        posicion = index\n",
    "        print(\"valor a ordenar = {}\".format(actual))\n",
    "        while posicion>0 and n_lista[posicion-1]>actual:\n",
    "            n_lista[posicion]=n_lista[posicion-1]\n",
    "            posicion = posicion-1           \n",
    "        n_lista[posicion]=actual\n",
    "        print(n_lista)\n",
    "        print() \n",
    "    return n_lista"
   ]
  },
  {
   "cell_type": "code",
   "execution_count": 132,
   "metadata": {
    "collapsed": false,
    "scrolled": false
   },
   "outputs": [
    {
     "name": "stdout",
     "output_type": "stream",
     "text": [
      "Tiempo de ejecución: 1.571646 s\n"
     ]
    }
   ],
   "source": [
    "#Datos de entrada\n",
    "lista = [21, 10, 0, 11, 9, 24, 20, 27, 28]\n",
    "print(\"lista desordenada {}\".format(lista))\n",
    "t0 = time()\n",
    "insertionSort(lista)\n",
    "print(\"lista ordenada {}\".format(lista))\n",
    "print(\"Tiempo de ejecución:\", round(time()-t0, 6), \"s\")"
   ]
  },
  {
   "cell_type": "markdown",
   "metadata": {},
   "source": [
    "> En la siguiente tabla se muestran los pasos para ordenar el número 0 "
   ]
  },
  {
   "cell_type": "markdown",
   "metadata": {},
   "source": []
  },
  {
   "cell_type": "markdown",
   "metadata": {},
   "source": [
    "## 2. Divide y vencerás"
   ]
  },
  {
   "cell_type": "markdown",
   "metadata": {},
   "source": [
    "Es un paradigma que consiste en:\n",
    "1. Dividir el problema en subproblemas hasta que son suficientemente simples que se pueden resolver directamente.\n",
    "2. Después las soluciones son combinadas para generar la solución general del problema."
   ]
  },
  {
   "cell_type": "markdown",
   "metadata": {},
   "source": [
    "### 2.1 Quick sort"
   ]
  },
  {
   "cell_type": "markdown",
   "metadata": {},
   "source": [
    "Quicksort es un ejemplo de resolver un problema por medio de divide y vencerás. En Quicksort se divide en dos el arreglo que va a ser ordenado y se llama recursivamente para ordenar las divisiones."
   ]
  },
  {
   "cell_type": "markdown",
   "metadata": {},
   "source": []
  },
  {
   "cell_type": "markdown",
   "metadata": {},
   "source": [
    "> http://www.pythonschool.net/data-structures-algorithms/quicksort/ <br>\n",
    "> https://www.youtube.com/watch?v=90kbMbQWopw"
   ]
  },
  {
   "cell_type": "code",
   "execution_count": 43,
   "metadata": {
    "collapsed": true
   },
   "outputs": [],
   "source": [
    "def quicksort(myList, start, end):\n",
    "    if start < end:\n",
    "        # partition the list\n",
    "        pivot = partition(myList, start, end)\n",
    "        # sort both halves\n",
    "        quicksort(myList, start, pivot-1)\n",
    "        quicksort(myList, pivot+1, end)\n",
    "    return myList"
   ]
  },
  {
   "cell_type": "code",
   "execution_count": 44,
   "metadata": {
    "collapsed": true
   },
   "outputs": [],
   "source": [
    "def partition(myList, start, end):\n",
    "    pivot = myList[start]\n",
    "    left = start+1\n",
    "    right = end\n",
    "    done = False\n",
    "    while not done:\n",
    "        while left <= right and myList[left] <= pivot:\n",
    "            left = left + 1\n",
    "        while myList[right] >= pivot and right >=left:\n",
    "            right = right -1\n",
    "        if right < left:\n",
    "            done= True\n",
    "        else:\n",
    "            # swap places\n",
    "            temp=myList[left]\n",
    "            myList[left]=myList[right]\n",
    "            myList[right]=temp\n",
    "    # swap start with myList[right]\n",
    "    temp=myList[start]\n",
    "    myList[start]=myList[right]\n",
    "    myList[right]=temp\n",
    "    return right"
   ]
  },
  {
   "cell_type": "code",
   "execution_count": 133,
   "metadata": {
    "collapsed": false
   },
   "outputs": [
    {
     "name": "stdout",
     "output_type": "stream",
     "text": [
      "Tiempo de ejecución: 0.0 s\n"
     ]
    }
   ],
   "source": [
    "lista = [21, 10, 0, 11, 9, 24, 20, 27, 28]\n",
    "#print(\"lista desordenada {}\".format(lista))\n",
    "t0 = time()\n",
    "quicksort(lista, 0, len(lista)-1)\n",
    "#print(\"lista ordenada {}\".format(lista))\n",
    "print(\"Tiempo de ejecución:\", round(time()-t0, 6), \"s\")"
   ]
  },
  {
   "cell_type": "markdown",
   "metadata": {},
   "source": [
    "## 3. Graficas "
   ]
  },
  {
   "cell_type": "code",
   "execution_count": 23,
   "metadata": {
    "collapsed": false
   },
   "outputs": [
    {
     "name": "stdout",
     "output_type": "stream",
     "text": [
      "Populating the interactive namespace from numpy and matplotlib\n"
     ]
    },
    {
     "name": "stderr",
     "output_type": "stream",
     "text": [
      "WARNING: pylab import has clobbered these variables: ['random']\n",
      "`%matplotlib` prevents importing * from pylab and numpy\n"
     ]
    }
   ],
   "source": [
    "#Importando los módulos\n",
    "%pylab inline\n",
    "import matplotlib.pyplot as plt\n",
    "from mpl_toolkits.mplot3d import Axes3D"
   ]
  },
  {
   "cell_type": "code",
   "execution_count": 49,
   "metadata": {
    "collapsed": false
   },
   "outputs": [],
   "source": [
    "#Cargando módulos\n",
    "import random\n",
    "from time import time\n",
    "from insertionSort import insertionSort_time\n",
    "\n",
    "#Cantidad de números aleatorios a generar\n",
    "datos = [1000, 3000, 5000, 7000, 10000, 15000, 20000, 25000]\n",
    "tiempo_is = []  #Lista para guardar el tiempo de ejecución de insert sort\n",
    "tiempo_qs = []  #Lista para guardar el tiempo de ejecución de quick sort\n",
    "\n",
    "for ii in datos:\n",
    "    lista_is = random.sample(range(0, 10000000), ii)\n",
    "    #Se hace una copia de la lista para que se ejecute el algoritmo con los mismo números\n",
    "    lista_qs = lista_is.copy() \n",
    "    \n",
    "    t0 = time()\n",
    "    insertionSort_time(lista_is)\n",
    "    tiempo_is.append(round(time()-t0, 6))\n",
    "    \n",
    "    t0 = time()    \n",
    "    quicksort(lista_qs, 0, len(lista_qs)-1)\n",
    "    tiempo_qs.append(round(time()-t0, 6))"
   ]
  },
  {
   "cell_type": "code",
   "execution_count": 50,
   "metadata": {
    "collapsed": false
   },
   "outputs": [
    {
     "name": "stdout",
     "output_type": "stream",
     "text": [
      "Tiempos de ejecución en insert sort [0.090759, 0.528774, 1.638367, 3.097648, 6.451974, 14.416017, 26.134822, 43.047307]\n",
      "Tiempos de ejecución en quick sort [0.0, 0.015628, 0.015627, 0.023563, 0.035093, 0.068355, 0.084686, 0.118634]\n"
     ]
    }
   ],
   "source": [
    "#Imprimiendo tiempos de ejecución\n",
    "print(\"Tiempos de ejecución en insert sort {}\".format(tiempo_is))\n",
    "print(\"Tiempos de ejecución en quick sort {}\".format(tiempo_qs))"
   ]
  },
  {
   "cell_type": "code",
   "execution_count": 53,
   "metadata": {
    "collapsed": false
   },
   "outputs": [
    {
     "data": {
      "image/png": "[encoded data removed]",
      "text/plain": [
       "<matplotlib.figure.Figure at 0x22993de7208>"
      ]
     },
     "metadata": {},
     "output_type": "display_data"
    }
   ],
   "source": [
    "#Generando la gráfica\n",
    "fig, ax = subplots()\n",
    "ax.plot(datos, tiempo_is, label=\"insert sort\", marker=\"*\",color=\"r\")\n",
    "ax.plot(datos, tiempo_qs, label=\"quick sort\", marker=\"o\",color=\"b\")\n",
    "ax.set_xlabel('Datos')\n",
    "ax.set_ylabel('Tiempo')\n",
    "ax.grid(True)\n",
    "ax.legend(loc=2); \n",
    "\n",
    "plt.title('Tiempo de ejecución (insert vs. quick)')\n",
    "plt.show()"
   ]
  },
  {
   "cell_type": "markdown",
   "metadata": {},
   "source": [
    "## 2. Recursividad"
   ]
  },
  {
   "cell_type": "markdown",
   "metadata": {},
   "source": [
    "> http://www.brpreiss.com/books/opus7/programs/"
   ]
  },
  {
   "cell_type": "code",
   "execution_count": 1,
   "metadata": {
    "collapsed": true
   },
   "outputs": [],
   "source": [
    "#http://www.brpreiss.com/books/opus7/programs/pgm03_03.txt\n",
    "def Fibonacci(n):\n",
    "    previous = -1\n",
    "    result = 1\n",
    "    i = 0\n",
    "    while i <= n:\n",
    "        sum = result + previous\n",
    "        previous = result\n",
    "        result = sum\n",
    "        i += 1\n",
    "    return result"
   ]
  },
  {
   "cell_type": "code",
   "execution_count": 3,
   "metadata": {
    "collapsed": false
   },
   "outputs": [
    {
     "ename": "SyntaxError",
     "evalue": "invalid syntax (<ipython-input-3-b2976f53ab97>, line 1)",
     "output_type": "error",
     "traceback": [
      "\u001b[1;36m  File \u001b[1;32m\"<ipython-input-3-b2976f53ab97>\"\u001b[1;36m, line \u001b[1;32m1\u001b[0m\n\u001b[1;33m    http://www.brpreiss.com/books/opus7/programs/pgm03_04.txt\u001b[0m\n\u001b[1;37m        ^\u001b[0m\n\u001b[1;31mSyntaxError\u001b[0m\u001b[1;31m:\u001b[0m invalid syntax\n"
     ]
    }
   ],
   "source": [
    "http://www.brpreiss.com/books/opus7/programs/pgm03_04.txt\n",
    "def Fibonacci(n):\n",
    "    if n == 0 or n == 1:\n",
    "        return n\n",
    "    else:\n",
    "        return Fibonacci(n - 1) + Fibonacci(n - 2)"
   ]
  },
  {
   "cell_type": "code",
   "execution_count": 16,
   "metadata": {
    "collapsed": true
   },
   "outputs": [],
   "source": [
    "inicio = 0\n",
    "fin = 1000000\n",
    "elem_en_lista = 1000000\n",
    "lista = random.sample(range(inicio, fin), elem_en_lista)"
   ]
  },
  {
   "cell_type": "code",
   "execution_count": 11,
   "metadata": {
    "collapsed": false
   },
   "outputs": [
    {
     "name": "stdout",
     "output_type": "stream",
     "text": [
      "25\n"
     ]
    }
   ],
   "source": [
    "def listsum(numList):\n",
    "    theSum = 0\n",
    "    for i in numList:\n",
    "        theSum = theSum + i\n",
    "    return theSum\n",
    "\n",
    "print(listsum([1,3,5,7,9]))"
   ]
  },
  {
   "cell_type": "code",
   "execution_count": 12,
   "metadata": {
    "collapsed": false
   },
   "outputs": [
    {
     "name": "stdout",
     "output_type": "stream",
     "text": [
      "25\n"
     ]
    }
   ],
   "source": [
    "def listsum_rec(numList):\n",
    "   if len(numList) == 1:\n",
    "        return numList[0]\n",
    "   else:\n",
    "        return numList[0] + listsum(numList[1:])\n",
    "\n",
    "print(listsum([1,3,5,7,9]))"
   ]
  },
  {
   "cell_type": "code",
   "execution_count": 17,
   "metadata": {
    "collapsed": false
   },
   "outputs": [
    {
     "name": "stdout",
     "output_type": "stream",
     "text": [
      "Tiempo de ejecución: 0.199002 s\n",
      "Tiempo de ejecución: 0.233164 s\n"
     ]
    }
   ],
   "source": [
    "t0 = time()\n",
    "listsum(lista)\n",
    "print(\"Tiempo de ejecución:\", round(time()-t0, 6), \"s\")\n",
    "\n",
    "t0 = time()\n",
    "listsum_rec(lista)\n",
    "print(\"Tiempo de ejecución:\", round(time()-t0, 6), \"s\")\n"
   ]
  },
  {
   "cell_type": "code",
   "execution_count": null,
   "metadata": {
    "collapsed": true
   },
   "outputs": [],
   "source": []
  }
 ],
 "metadata": {
  "kernelspec": {
   "display_name": "Python 3",
   "language": "python",
   "name": "python3"
  },
  "language_info": {
   "codemirror_mode": {
    "name": "ipython",
    "version": 3
   },
   "file_extension": ".py",
   "mimetype": "text/x-python",
   "name": "python",
   "nbconvert_exporter": "python",
   "pygments_lexer": "ipython3",
   "version": "3.5.0"
  }
 },
 "nbformat": 4,
 "nbformat_minor": 0
}
