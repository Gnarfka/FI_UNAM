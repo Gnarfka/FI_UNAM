{
 "cells": [
  {
   "cell_type": "markdown",
   "metadata": {},
   "source": [
    "# Guía práctica de estudio 13: <br>Recursividad"
   ]
  },
  {
   "cell_type": "markdown",
   "metadata": {},
   "source": [
    "<img src=\"img/logo.png\" height=\"600\" width=\"400\">"
   ]
  },
  {
   "cell_type": "markdown",
   "metadata": {},
   "source": [
    "### Elaborado por:\n",
    "\n",
    "* M.C. Edgar E. García Cano\n",
    "* Ing. Jorge A. Solano Gálvez\n",
    "\n",
    "### Autorizado por:\n",
    "* M.C. Alejandro Velázquez Mena"
   ]
  },
  {
   "cell_type": "markdown",
   "metadata": {},
   "source": [
    "## Objetivo:"
   ]
  },
  {
   "cell_type": "markdown",
   "metadata": {},
   "source": [
    ">El objetivo de esta guía es aplicar el concepto de recursividad para la solución de problemas. Al final de esta guía sabrás:\n",
    "1. Las reglas de la recursividad y sus implicaciones\n",
    "2. Ejecutar programas guardados en archivos desde la notebook\n",
    "3. Ingresar dato a tu programa por medio de banderas"
   ]
  },
  {
   "cell_type": "markdown",
   "metadata": {},
   "source": [
    "# 1. Recursividad"
   ]
  },
  {
   "cell_type": "markdown",
   "metadata": {},
   "source": [
    "El propósito de la recursividad es dividir un problema en problemas más pequeños de tal manera que la solución del problema se vuelve trivial. Básicamente, la recursión se puede explicar como una función que se llama así misma."
   ]
  },
  {
   "cell_type": "markdown",
   "metadata": {},
   "source": [
    "## 1.1 Factorial"
   ]
  },
  {
   "cell_type": "markdown",
   "metadata": {},
   "source": [
    "Uno de los ejemplos más básicos es el cálculo del factorial cuya fórmula se muestra a continuación: $$n! = \\prod_{i=1}^n p_i = 1 \\times 2 \\times 3... \\times (n-1) \\times n $$\n",
    "\n"
   ]
  },
  {
   "cell_type": "markdown",
   "metadata": {},
   "source": [
    "**Tip:** En las notebooks se pueden agregar expresiones matemáticas usando Latex (https://latex-project.org/intro.html) , tal y como se muestra en la formula anterior. La fórmula se tiene que agregar usando $$ al principio y al final de la misma."
   ]
  },
  {
   "cell_type": "code",
   "execution_count": null,
   "metadata": {
    "collapsed": true
   },
   "outputs": [],
   "source": [
    "#La siguiente función calcula el factorial de un número usando el ciclo for\n",
    "def factorial_no_recursivo(numero):\n",
    "    fact = 1\n",
    "    for i in range(numero, 1, -1): #Se genera una lista que ve de n a 1, el -1 indica que cada iteración se resta 1 al índice.\n",
    "        fact *= i   # Esto es equivalente a fact = fact * i\n",
    "    return fact"
   ]
  },
  {
   "cell_type": "code",
   "execution_count": null,
   "metadata": {
    "collapsed": false
   },
   "outputs": [],
   "source": [
    "factorial_no_recursivo(5)"
   ]
  },
  {
   "cell_type": "markdown",
   "metadata": {},
   "source": [
    "Como se dijo anteriormente, para resolver un problema por medio de recursividad hay que generar problemas más pequeños. Analiznado la forma en que se calcula el factorial en la función pasada se tiene que: \n",
    "$$5! = 5 \\times 4 \\times 3 \\times 2 \\times 1 $$\n",
    "Si se remueve el 5 tenemos:\n",
    "$$4! = 4 \\times 3 \\times 2 \\times 1 = 4 (4 - 1)! = 4 \\times (3!) $$\n",
    "Por lo que podemos decir que \n",
    "$$4 \\times 3! = 4 \\times [3 (3-1)! ] = 4 \\times 3 \\times (2!) $$\n",
    "Por lo que si aplicamos esto a toda la secuencia al final tenemos la siguiente expansión:\n",
    "$$5! = 5(4!) = 5 \\times 4 \\times (3!) = 5 \\times 4 \\times 3 \\times (2!) = 5 \\times 4 \\times 3 \\times 2 \\times (1!) =  5 \\times 4 \\times 3 \\times 2 \\times 1 \\times (0!) = 120$$"
   ]
  },
  {
   "cell_type": "markdown",
   "metadata": {},
   "source": [
    "Para aplica recursión se deben de cumplir tres reglas:\n",
    "1. Debe de haber uno o más casos base. \n",
    "2. La expansión debe terminar en un caso base.\n",
    "3. La función se debe llamar a sí misma."
   ]
  },
  {
   "cell_type": "markdown",
   "metadata": {},
   "source": [
    "Aplicando los objetivos anteriores para resolver el problema del facorial por medio de recursión tenemos:"
   ]
  },
  {
   "cell_type": "code",
   "execution_count": null,
   "metadata": {
    "collapsed": true
   },
   "outputs": [],
   "source": [
    "def factorial_recursivo(numero):\n",
    "    if numero < 2:    #El caso base es cuando numero < 2 la función regresa 1\n",
    "        return 1\n",
    "    return numero * factorial_recursivo(numero - 1) #La función se llama a sí misma"
   ]
  },
  {
   "cell_type": "code",
   "execution_count": null,
   "metadata": {
    "collapsed": false
   },
   "outputs": [],
   "source": [
    "factorial_recursivo(5)"
   ]
  },
  {
   "cell_type": "markdown",
   "metadata": {
    "collapsed": true
   },
   "source": [
    "De la comportamiento de  *factorial_recursivo()* se puede observar lo siguiente:\n",
    "* El caso base permite terminar la recursión. \n",
    "* Conforme se va decrementando la variable *numero*, nos dirigimos a encontrar el caso base. El caso base ya no necesita recursión debido a que se convirtió en la versión más simple del problema.\n",
    "* La función se llama a sí misma y tomo el lugar del ciclo usado en la función *factorial_no_recursivo()*.\n",
    "* Cada que se llama de nuevo a la función, ésta tiene la copia de las variables locales y el valor de los parámetros. \n"
   ]
  },
  {
   "cell_type": "markdown",
   "metadata": {},
   "source": [
    "**Tip:** En el caso de Python, hay un límite en el número de veces que se puede llamar recursivamente una función, si se excede ese límite se genera el error: *maximum recursion depth exceeded in comparison*. Este límite puede ser modificado, pero no es recomendable."
   ]
  },
  {
   "cell_type": "code",
   "execution_count": null,
   "metadata": {
    "collapsed": false
   },
   "outputs": [],
   "source": [
    "#Al tratar de calcular el factorial de 1000 se excede el límite permitido de recursiones\n",
    "factorial_recursivo(1000)"
   ]
  },
  {
   "cell_type": "markdown",
   "metadata": {},
   "source": [
    "## 1.2 Huellas de tortuga"
   ]
  },
  {
   "cell_type": "markdown",
   "metadata": {},
   "source": [
    "Para el siguiente ejemplo, se va a utilizar la librería *turtle*. Como se ve en la siguiente imagen, se ve como una tortuga se desplaza en espiral. Este ejemplo ha sido tomado del tutorial de la librería *turtle* que se puede consultar en http://openbookproject.net/thinkcs/python/english3e/hello_little_turtles.html."
   ]
  },
  {
   "cell_type": "markdown",
   "metadata": {},
   "source": [
    "El objetivo es hacer que la tortuga deje un determinado número de huellas, cada una de las huellas se va a ir espaciando incrementalmente mientras avanza la tortuga. A contiuación se muestra el código que hace el recorrido de la tortuga que se ejecuta en un ciclo *for*.<br>\n",
    "**NOTA:** La siguiente sección de código no se va a ejecutar en la notebook"
   ]
  },
  {
   "cell_type": "markdown",
   "metadata": {},
   "source": [
    "#Archivo: **recorrido_no_recursivo.py**\n",
    "```\n",
    "for i in range(30):         #Esta determinado que se impriman 30 huellas de la tortuga\n",
    "   tess.stamp()             # Huella de la tortuga\n",
    "   size = size + 3          # Se incrementa el paso de la tortuga cada iteración\n",
    "   tess.forward(size)       # Se mueve la tortuga hacia adelante\n",
    "   tess.right(24)           # y se gira a la derecha\n",
    "```"
   ]
  },
  {
   "cell_type": "markdown",
   "metadata": {},
   "source": [
    "<img src=\"img/recorrido.png\" height=\"600\" width=\"400\">"
   ]
  },
  {
   "cell_type": "markdown",
   "metadata": {},
   "source": [
    "Para pasar el ejemplo anterior y hacerlo de manera recursiva, primero se tiene que encontrar el caso base y después hacer una función que se va a llamar a sí misma. Para esta función el caso base es cuando se ha completado el número de huellas requerido. A continuación se muestra el código de la función para el recorrido de la tortuga. "
   ]
  },
  {
   "cell_type": "markdown",
   "metadata": {},
   "source": [
    "#Archivo: **recorrido_recursivo.py**\n",
    "```\n",
    "def recorrido_recursivo(tortuga, espacio, huellas):\n",
    "    if huellas > 0:\n",
    "        tortuga.stamp()\n",
    "        espacio = espacio + 3          \n",
    "        tortuga.forward(espacio)       \n",
    "        tortuga.right(24)  \n",
    "        recorrido_recursivo(tortuga, espacio, huellas-1)\n",
    "```        "
   ]
  },
  {
   "cell_type": "markdown",
   "metadata": {},
   "source": [
    "El código completo de las dos versiones se encuentra guardado en los archivos *recorrido_recursivo.py* y *recorrido_no_recursivo.py* y se va a ejecutar desde la notebook como si de una ventana de comandos se tratara."
   ]
  },
  {
   "cell_type": "markdown",
   "metadata": {},
   "source": [
    "**Tip:** En las notebooks se pueden ejecutar comandos del sistema operativo, sólo se tiene que agregar el signo de admiración antes del comando (! <comando>). Si el comando no es del sistema operativo, se despliega un aviso. "
   ]
  },
  {
   "cell_type": "code",
   "execution_count": null,
   "metadata": {
    "collapsed": true
   },
   "outputs": [],
   "source": [
    "!dir  #Despliega el listado de los archivos del directorio actual en Windows"
   ]
  },
  {
   "cell_type": "code",
   "execution_count": null,
   "metadata": {
    "collapsed": true
   },
   "outputs": [],
   "source": [
    "!ls   #Despliega el listado de los archivos del directorio actual en Unix/Linux"
   ]
  },
  {
   "cell_type": "markdown",
   "metadata": {},
   "source": [
    "Al momento de ejecutar los siguientes códigos, se abre una ventana independiente a la notebook donde se muestra el desplazamiento de la tortuga. Cuando se termine de ejecutar el código, es necesario cerrar la ventana para que termine la ejecución en la notebook."
   ]
  },
  {
   "cell_type": "code",
   "execution_count": null,
   "metadata": {
    "collapsed": false
   },
   "outputs": [],
   "source": [
    "#Ejecutando el código no recursivo.\n",
    "!python recorrido_no_recursivo.py "
   ]
  },
  {
   "cell_type": "markdown",
   "metadata": {},
   "source": [
    "Para la implementación recursiva (recorrido_recursivo.py) se hace uso de la librería *argparse*, esta librería permite mandar datos de entrada al programa por medio de banderas, tal y como se hace en con los comandos del sistema operativo.\n",
    "```  \n",
    "ap = argparse.ArgumentParser()\n",
    "\n",
    "#El dato de entrada se ingresa con la bandera --huellas\n",
    "ap.add_argument(\"--huellas\", required=True, help=\"número de huellas\")\n",
    "\n",
    "#Lo que se obtiene es un diccionario (llave:valor) , en este caso llamado args\n",
    "args = vars(ap.parse_args())\n",
    "\n",
    "# Los valores del diccionario son cadenas por lo que se tiene que transformar a un entero\n",
    "huellas = int(args[\"huellas\"])\n",
    "```  \n"
   ]
  },
  {
   "cell_type": "markdown",
   "metadata": {},
   "source": [
    "El código se ejecuta de la siguiente manera: "
   ]
  },
  {
   "cell_type": "code",
   "execution_count": null,
   "metadata": {
    "collapsed": true
   },
   "outputs": [],
   "source": [
    "#Como se observa, hay un espacio después del nombre del archivo y un espacio después de la bandera\n",
    "!python recorrido_recursivo.py --huellas 25"
   ]
  },
  {
   "cell_type": "markdown",
   "metadata": {},
   "source": [
    "Si no se especifica la bandera o se especifica si un valor, se genera un mensaje de error."
   ]
  },
  {
   "cell_type": "code",
   "execution_count": null,
   "metadata": {
    "collapsed": false,
    "scrolled": true
   },
   "outputs": [],
   "source": [
    "!python recorrido_recursivo.py --huella"
   ]
  },
  {
   "cell_type": "markdown",
   "metadata": {},
   "source": [
    "## Desventajas de la recursividad"
   ]
  },
  {
   "cell_type": "markdown",
   "metadata": {},
   "source": [
    "1. A veces es complejo generar la lógica para aplicar recursión.\n",
    "2. Hay una limitación en el número de veces que una función puede ser llamada, tanto en memoria como en tiempo de ejecución."
   ]
  },
  {
   "cell_type": "markdown",
   "metadata": {},
   "source": [
    "# Bibliografía"
   ]
  },
  {
   "cell_type": "markdown",
   "metadata": {},
   "source": [
    "[1] *Design and analysis of algorithms*; Prabhakar Gupta and Manish Varshney; PHI Learning, 2012, segunda edición.<br>\n",
    "[2] *Introduction to Algorithms*, Thomas H. Cormen, Charles E. Leiserson, Ronald L. Rivest and Clifford Stein; The MIT Press; 2009, tercera edicion.<br>\n",
    "[3] *Problem Solving with Algorithms and Data Structures using Python*; Bradley N. Miller and David L. Ranum, Franklin, Beedle & Associates; 2011, segunda edition.<br>\n",
    "[4] http://openbookproject.net/thinkcs/python/english3e/hello_little_turtles.html"
   ]
  }
 ],
 "metadata": {
  "kernelspec": {
   "display_name": "Python 3",
   "language": "python",
   "name": "python3"
  },
  "language_info": {
   "codemirror_mode": {
    "name": "ipython",
    "version": 3
   },
   "file_extension": ".py",
   "mimetype": "text/x-python",
   "name": "python",
   "nbconvert_exporter": "python",
   "pygments_lexer": "ipython3",
   "version": "3.5.0"
  }
 },
 "nbformat": 4,
 "nbformat_minor": 0
}
